{
  "cells": [
    {
      "cell_type": "markdown",
      "metadata": {
        "id": "G9fueCPLFKin"
      },
      "source": [
        "GitHub<br>\n",
        "https://github.com/Vegetebird/StridedTransformer-Pose3D<br>\n",
        "論文<br>\n",
        "https://arxiv.org/abs/2103.14304<br>\n",
        "\n",
        "参考記事<br>\n",
        "https://www.12-technology.com/2022/07/stridedtransformer-pose3d-python.html\n",
        "<br>\n",
        "<a href=\"https://colab.research.google.com/github/kaz12tech/ai_demos/blob/master/StridedTransformer_Pose3D.ipynb\" target=\"_blank\"><img src=\"https://colab.research.google.com/assets/colab-badge.svg\" alt=\"Open In Colab\"/></a>"
      ]
    },
    {
      "cell_type": "code",
      "source": [
        "!python3 -V"
      ],
      "metadata": {
        "colab": {
          "base_uri": "https://localhost:8080/"
        },
        "id": "u3MCMa7IcWcj",
        "outputId": "d00176fc-9a8e-41fd-9199-f0e318955b41"
      },
      "execution_count": null,
      "outputs": [
        {
          "output_type": "stream",
          "name": "stdout",
          "text": [
            "Python 3.10.11\n"
          ]
        }
      ]
    },
    {
      "cell_type": "markdown",
      "source": [
        "## pyenv導入\n",
        "無理。pythonバージョン変えると、ライブラリとの互換性が死ぬ。"
      ],
      "metadata": {
        "id": "qys2KIxLY8_I"
      }
    },
    {
      "cell_type": "code",
      "source": [
        "%%bash\n",
        "git clone https://github.com/pyenv/pyenv.git ~/.pyenv"
      ],
      "metadata": {
        "colab": {
          "base_uri": "https://localhost:8080/"
        },
        "id": "epQrYPH85qYx",
        "outputId": "969465fc-1259-4806-a959-1f38841ba1f7"
      },
      "execution_count": null,
      "outputs": [
        {
          "output_type": "stream",
          "name": "stderr",
          "text": [
            "Cloning into '/root/.pyenv'...\n"
          ]
        }
      ]
    },
    {
      "cell_type": "code",
      "source": [
        "##https://stackoverflow.com/questions/62272325/set-permanent-environment-variables-in-google-colab\n",
        "import os\n",
        "print(os.environ[\"PATH\"])\n",
        "os.environ[\"PATH\"]=\"/opt/bin:/usr/local/nvidia/bin:/usr/local/cuda/bin:/usr/local/sbin:/usr/local/bin:/usr/sbin:/usr/bin:/sbin:/bin:/tools/node/bin:/tools/google-cloud-sdk/bin:/root/.pyenv/bin/\"\n",
        "print(os.e[\"PA"
      ],
      "metadata": {
        "colab": {
          "base_uri": "https://localhost:8080/"
        },
        "id": "p7AgIuFG5y5N",
        "outputId": "1e5337d2-a4dc-4369-8b47-45c3f8fd9a34"
      },
      "execution_count": null,
      "outputs": [
        {
          "output_type": "stream",
          "name": "stdout",
          "text": [
            "/opt/bin:/usr/local/nvidia/bin:/usr/local/cuda/bin:/usr/local/sbin:/usr/local/bin:/usr/sbin:/usr/bin:/sbin:/bin:/tools/node/bin:/tools/google-cloud-sdk/bin\n",
            "/opt/bin:/usr/local/nvidia/bin:/usr/local/cuda/bin:/usr/local/sbin:/usr/local/bin:/usr/sbin:/usr/bin:/sbin:/bin:/tools/node/bin:/tools/google-cloud-sdk/bin:/root/.pyenv/bin/\n"
          ]
        }
      ]
    },
    {
      "cell_type": "code",
      "source": [
        "##バッシュプロファイルの編集は無効になるので使えない\n",
        "%%bash\n",
        "echo 'export PYENV_ROOT=\"$HOME/.pyenv\"' >> ~/.bashrc\n",
        "echo 'export PATH=\"$PYENV_ROOT/bin:$PATH\"' >> ~/.bashrc\n",
        "echo 'eval \"$(pyenv init --path)\"' >> ~/.bashrc"
      ],
      "metadata": {
        "id": "KYze00tB71-F"
      },
      "execution_count": null,
      "outputs": []
    },
    {
      "cell_type": "code",
      "source": [
        "##バッシュプロファイルの編集は無効になるので使えない\n",
        "%%bash\n",
        "source ~/.bashrc"
      ],
      "metadata": {
        "id": "kpqbLXh--EMw"
      },
      "execution_count": null,
      "outputs": []
    },
    {
      "cell_type": "code",
      "source": [
        "#ゴリ押しの解決技\n",
        "\n",
        "# %%bash\n",
        "# export PYENV_ROOT=\"$HOME/.pyenv\"\n",
        "# export PATH=\"$PYENV_ROOT/bin:$PATH\"\n",
        "# eval \"$(pyenv init -)\"\n",
        "# env\n",
        "# python -V\n",
        "# which python\n",
        "\n",
        "#上記のコードを実行した際に得られたパス/root/.pyenv/shims:/root/.pyenv/binを追加。\n",
        "#参照時の優先順位を上げるために/usr/localよりも前に記述\n",
        "%env PATH=/root/.pyenv/shims:/root/.pyenv/bin:/opt/bin:/usr/local/nvidia/bin:/usr/local/cuda/bin:/usr/local/sbin:/usr/local/bin:/usr/sbin:/usr/bin:/sbin:/bin:/tools/node/bin:/tools/google-cloud-sdk/bin/"
      ],
      "metadata": {
        "colab": {
          "base_uri": "https://localhost:8080/"
        },
        "id": "1mRPKVkoG63v",
        "outputId": "e138a6a2-14e9-4624-9950-3f49a2cd2279"
      },
      "execution_count": null,
      "outputs": [
        {
          "output_type": "stream",
          "name": "stdout",
          "text": [
            "env: PATH=/root/.pyenv/shims:/root/.pyenv/bin:/opt/bin:/usr/local/nvidia/bin:/usr/local/cuda/bin:/usr/local/sbin:/usr/local/bin:/usr/sbin:/usr/bin:/sbin:/bin:/tools/node/bin:/tools/google-cloud-sdk/bin/\n"
          ]
        }
      ]
    },
    {
      "cell_type": "code",
      "source": [
        "!pyenv versions"
      ],
      "metadata": {
        "colab": {
          "base_uri": "https://localhost:8080/"
        },
        "id": "cABPgiUjKTZS",
        "outputId": "caf4870a-964d-4636-e687-4dd9d2e7bd07"
      },
      "execution_count": null,
      "outputs": [
        {
          "output_type": "stream",
          "name": "stdout",
          "text": [
            "  system\n",
            "* 3.8.6 (set by /root/.pyenv/version)\n"
          ]
        }
      ]
    },
    {
      "cell_type": "code",
      "source": [
        "!pyenv install 3.8.6"
      ],
      "metadata": {
        "colab": {
          "base_uri": "https://localhost:8080/"
        },
        "id": "UEi_pSnB530M",
        "outputId": "2ee6d720-7a6f-4173-9d94-7cfc2c42381e"
      },
      "execution_count": null,
      "outputs": [
        {
          "output_type": "stream",
          "name": "stdout",
          "text": [
            "Downloading Python-3.8.6.tar.xz...\n",
            "-> https://www.python.org/ftp/python/3.8.6/Python-3.8.6.tar.xz\n",
            "Installing Python-3.8.6...\n",
            "patching file Misc/NEWS.d/next/Build/2021-10-11-16-27-38.bpo-45405.iSfdW5.rst\n",
            "patching file configure\n",
            "patching file configure.ac\n",
            "Traceback (most recent call last):\n",
            "  File \"<string>\", line 1, in <module>\n",
            "  File \"/root/.pyenv/versions/3.8.6/lib/python3.8/ctypes/__init__.py\", line 7, in <module>\n",
            "    from _ctypes import Union, Structure, Array\n",
            "ModuleNotFoundError: No module named '_ctypes'\n",
            "\u001b[1mWARNING\u001b[m: The Python ctypes extension was not compiled. Missing the libffi lib?\n",
            "Installed Python-3.8.6 to /root/.pyenv/versions/3.8.6\n"
          ]
        }
      ]
    },
    {
      "cell_type": "code",
      "source": [
        "!pyenv local 3.8.6"
      ],
      "metadata": {
        "id": "Xfas4wc256Fo"
      },
      "execution_count": null,
      "outputs": []
    },
    {
      "cell_type": "code",
      "source": [
        "!pyenv versions\n",
        "!python -V"
      ],
      "metadata": {
        "colab": {
          "base_uri": "https://localhost:8080/"
        },
        "id": "VUlRxGML573Q",
        "outputId": "3415b3ea-6eee-4546-fcb8-122f81b4bf34"
      },
      "execution_count": null,
      "outputs": [
        {
          "output_type": "stream",
          "name": "stdout",
          "text": [
            "  system\n",
            "* 3.8.6 (set by /content/.python-version)\n",
            "Python 3.8.6\n"
          ]
        }
      ]
    },
    {
      "cell_type": "code",
      "source": [
        "!which python"
      ],
      "metadata": {
        "colab": {
          "base_uri": "https://localhost:8080/"
        },
        "id": "wSIqgJkZ5_Hc",
        "outputId": "f720a5f5-be2e-4b0b-902c-2092c44036fc"
      },
      "execution_count": null,
      "outputs": [
        {
          "output_type": "stream",
          "name": "stdout",
          "text": [
            "/root/.pyenv/shims/python\n"
          ]
        }
      ]
    },
    {
      "cell_type": "markdown",
      "source": [
        "## venv設定\n",
        "https://qiita.com/sin9270/items/7a17d21ccd7c2531ac41"
      ],
      "metadata": {
        "id": "p8RRsSJ6Ve7v"
      }
    },
    {
      "cell_type": "code",
      "source": [
        "%%bash\n",
        "python -m venv --without-pip /content/env\n",
        "curl https://bootstrap.pypa.io/get-pip.py -o get-pip.py\n",
        "python get-pip.py\n",
        "pip install --upgrade pip"
      ],
      "metadata": {
        "colab": {
          "base_uri": "https://localhost:8080/"
        },
        "id": "VTMri_-VVAuI",
        "outputId": "89aa0850-209f-4a20-b485-bb28d638a4e4"
      },
      "execution_count": null,
      "outputs": [
        {
          "output_type": "stream",
          "name": "stdout",
          "text": [
            "Looking in indexes: https://pypi.org/simple, https://us-python.pkg.dev/colab-wheels/public/simple/\n",
            "Collecting pip\n",
            "  Downloading pip-23.1.2-py3-none-any.whl (2.1 MB)\n",
            "     ━━━━━━━━━━━━━━━━━━━━━━━━━━━━━━━━━━━━━━━━ 2.1/2.1 MB 66.6 MB/s eta 0:00:00\n",
            "Collecting wheel\n",
            "  Downloading wheel-0.40.0-py3-none-any.whl (64 kB)\n",
            "     ━━━━━━━━━━━━━━━━━━━━━━━━━━━━━━━━━━━━━━━━ 64.5/64.5 kB 9.3 MB/s eta 0:00:00\n",
            "Installing collected packages: wheel, pip\n",
            "  Attempting uninstall: pip\n",
            "    Found existing installation: pip 20.2.1\n",
            "    Uninstalling pip-20.2.1:\n",
            "      Successfully uninstalled pip-20.2.1\n",
            "Successfully installed pip-23.1.2 wheel-0.40.0\n",
            "Looking in indexes: https://pypi.org/simple, https://us-python.pkg.dev/colab-wheels/public/simple/\n",
            "Requirement already satisfied: pip in /root/.pyenv/versions/3.8.6/lib/python3.8/site-packages (23.1.2)\n"
          ]
        },
        {
          "output_type": "stream",
          "name": "stderr",
          "text": [
            "  % Total    % Received % Xferd  Average Speed   Time    Time     Time  Current\n",
            "                                 Dload  Upload   Total   Spent    Left  Speed\n",
            "\r  0     0    0     0    0     0      0      0 --:--:-- --:--:-- --:--:--     0\r100 2518k  100 2518k    0     0  58.5M      0 --:--:-- --:--:-- --:--:-- 58.5M\n",
            "WARNING: Running pip as the 'root' user can result in broken permissions and conflicting behaviour with the system package manager. It is recommended to use a virtual environment instead: https://pip.pypa.io/warnings/venv\n",
            "WARNING: Running pip as the 'root' user can result in broken permissions and conflicting behaviour with the system package manager. It is recommended to use a virtual environment instead: https://pip.pypa.io/warnings/venv\n"
          ]
        }
      ]
    },
    {
      "cell_type": "code",
      "source": [
        "%%bash\n",
        "source /content/env/bin/activate\n",
        "pip install -r requirements.txt \n",
        "python -V\n",
        "pip list"
      ],
      "metadata": {
        "colab": {
          "base_uri": "https://localhost:8080/"
        },
        "id": "NHW8KVN0VmJg",
        "outputId": "81a70919-d2ae-47c0-9ea4-c2a978c3efe1"
      },
      "execution_count": null,
      "outputs": [
        {
          "output_type": "stream",
          "name": "stdout",
          "text": [
            "Looking in indexes: https://pypi.org/simple, https://us-python.pkg.dev/colab-wheels/public/simple/\n",
            "Collecting en-core-web-sm@ https://github.com/explosion/spacy-models/releases/download/en_core_web_sm-3.5.0/en_core_web_sm-3.5.0-py3-none-any.whl (from -r requirements.txt (line 69))\n",
            "  Downloading https://github.com/explosion/spacy-models/releases/download/en_core_web_sm-3.5.0/en_core_web_sm-3.5.0-py3-none-any.whl (12.8 MB)\n",
            "     ━━━━━━━━━━━━━━━━━━━━━━━━━━━━━━━━━━━━━━━━ 12.8/12.8 MB 84.1 MB/s eta 0:00:00\n",
            "Python 3.8.6\n",
            "Package    Version\n",
            "---------- -------\n",
            "pip        23.1.2\n",
            "setuptools 49.2.1\n",
            "wheel      0.40.0\n"
          ]
        },
        {
          "output_type": "stream",
          "name": "stderr",
          "text": [
            "ERROR: torch-2.0.0+cu118-cp39-cp39-linux_x86_64.whl is not a supported wheel on this platform.\n"
          ]
        }
      ]
    },
    {
      "cell_type": "markdown",
      "metadata": {
        "id": "iWBmluQQx-MK"
      },
      "source": [
        "## GPU確認"
      ]
    },
    {
      "cell_type": "code",
      "execution_count": null,
      "metadata": {
        "colab": {
          "base_uri": "https://localhost:8080/"
        },
        "id": "qyLiFmW6x_3w",
        "outputId": "117016ee-9438-4f36-c398-18e976011626"
      },
      "outputs": [
        {
          "output_type": "stream",
          "name": "stdout",
          "text": [
            "Wed May  3 16:51:37 2023       \n",
            "+-----------------------------------------------------------------------------+\n",
            "| NVIDIA-SMI 525.85.12    Driver Version: 525.85.12    CUDA Version: 12.0     |\n",
            "|-------------------------------+----------------------+----------------------+\n",
            "| GPU  Name        Persistence-M| Bus-Id        Disp.A | Volatile Uncorr. ECC |\n",
            "| Fan  Temp  Perf  Pwr:Usage/Cap|         Memory-Usage | GPU-Util  Compute M. |\n",
            "|                               |                      |               MIG M. |\n",
            "|===============================+======================+======================|\n",
            "|   0  Tesla T4            Off  | 00000000:00:04.0 Off |                    0 |\n",
            "| N/A   63C    P8    10W /  70W |      0MiB / 15360MiB |      0%      Default |\n",
            "|                               |                      |                  N/A |\n",
            "+-------------------------------+----------------------+----------------------+\n",
            "                                                                               \n",
            "+-----------------------------------------------------------------------------+\n",
            "| Processes:                                                                  |\n",
            "|  GPU   GI   CI        PID   Type   Process name                  GPU Memory |\n",
            "|        ID   ID                                                   Usage      |\n",
            "|=============================================================================|\n",
            "|  No running processes found                                                 |\n",
            "+-----------------------------------------------------------------------------+\n"
          ]
        }
      ],
      "source": [
        "!nvidia-smi"
      ]
    },
    {
      "cell_type": "markdown",
      "metadata": {
        "id": "TmL3LoMMGcNF"
      },
      "source": [
        "## Githubからソースコード取得"
      ]
    },
    {
      "cell_type": "code",
      "execution_count": null,
      "metadata": {
        "colab": {
          "base_uri": "https://localhost:8080/"
        },
        "id": "tthUF7D6FKiu",
        "outputId": "e45002f8-4911-4cc1-cb1c-63870998a18c"
      },
      "outputs": [
        {
          "output_type": "stream",
          "name": "stdout",
          "text": [
            "/content\n",
            "Cloning into '3d-human-pose-estimation'...\n",
            "remote: Enumerating objects: 134, done.\u001b[K\n",
            "remote: Counting objects: 100% (134/134), done.\u001b[K\n",
            "remote: Compressing objects: 100% (100/100), done.\u001b[K\n",
            "remote: Total 134 (delta 45), reused 108 (delta 26), pack-reused 0\u001b[K\n",
            "Receiving objects: 100% (134/134), 28.35 MiB | 6.99 MiB/s, done.\n",
            "Resolving deltas: 100% (45/45), done.\n"
          ]
        }
      ],
      "source": [
        "%cd /content\n",
        "\n",
        "#!git clone https://github.com/Vegetebird/StridedTransformer-Pose3D.git\n",
        "!git clone https://github.com/miswhiramon/3d-human-pose-estimation.git"
      ]
    },
    {
      "cell_type": "markdown",
      "metadata": {
        "id": "2-2Fh1sOHdnn"
      },
      "source": [
        "## ライブラリのインストール"
      ]
    },
    {
      "cell_type": "code",
      "execution_count": null,
      "metadata": {
        "colab": {
          "base_uri": "https://localhost:8080/"
        },
        "id": "AP8SsHYvHfkR",
        "outputId": "7cc041f5-7f04-41db-8055-42060174ab40"
      },
      "outputs": [
        {
          "output_type": "stream",
          "name": "stdout",
          "text": [
            "/content/3d-human-pose-estimation\n",
            "Looking in indexes: https://pypi.org/simple, https://us-python.pkg.dev/colab-wheels/public/simple/\n",
            "Requirement already satisfied: wheel in /usr/local/lib/python3.10/dist-packages (0.40.0)\n",
            "Requirement already satisfied: setuptools in /usr/local/lib/python3.10/dist-packages (67.7.2)\n",
            "Requirement already satisfied: pip in /usr/local/lib/python3.10/dist-packages (23.0.1)\n",
            "Collecting pip\n",
            "  Downloading pip-23.1.2-py3-none-any.whl (2.1 MB)\n",
            "\u001b[2K     \u001b[90m━━━━━━━━━━━━━━━━━━━━━━━━━━━━━━━━━━━━━━━━\u001b[0m \u001b[32m2.1/2.1 MB\u001b[0m \u001b[31m76.1 MB/s\u001b[0m eta \u001b[36m0:00:00\u001b[0m\n",
            "\u001b[?25hInstalling collected packages: pip\n",
            "  Attempting uninstall: pip\n",
            "    Found existing installation: pip 23.0.1\n",
            "    Uninstalling pip-23.0.1:\n",
            "      Successfully uninstalled pip-23.0.1\n",
            "Successfully installed pip-23.1.2\n",
            "Looking in indexes: https://pypi.org/simple, https://us-python.pkg.dev/colab-wheels/public/simple/\n",
            "Requirement already satisfied: gdown in /usr/local/lib/python3.10/dist-packages (4.6.6)\n",
            "Collecting gdown\n",
            "  Downloading gdown-4.7.1-py3-none-any.whl (15 kB)\n",
            "Requirement already satisfied: filelock in /usr/local/lib/python3.10/dist-packages (from gdown) (3.12.0)\n",
            "Requirement already satisfied: requests[socks] in /usr/local/lib/python3.10/dist-packages (from gdown) (2.27.1)\n",
            "Requirement already satisfied: six in /usr/local/lib/python3.10/dist-packages (from gdown) (1.16.0)\n",
            "Requirement already satisfied: tqdm in /usr/local/lib/python3.10/dist-packages (from gdown) (4.65.0)\n",
            "Requirement already satisfied: beautifulsoup4 in /usr/local/lib/python3.10/dist-packages (from gdown) (4.11.2)\n",
            "Requirement already satisfied: soupsieve>1.2 in /usr/local/lib/python3.10/dist-packages (from beautifulsoup4->gdown) (2.4.1)\n",
            "Requirement already satisfied: urllib3<1.27,>=1.21.1 in /usr/local/lib/python3.10/dist-packages (from requests[socks]->gdown) (1.26.15)\n",
            "Requirement already satisfied: certifi>=2017.4.17 in /usr/local/lib/python3.10/dist-packages (from requests[socks]->gdown) (2022.12.7)\n",
            "Requirement already satisfied: charset-normalizer~=2.0.0 in /usr/local/lib/python3.10/dist-packages (from requests[socks]->gdown) (2.0.12)\n",
            "Requirement already satisfied: idna<4,>=2.5 in /usr/local/lib/python3.10/dist-packages (from requests[socks]->gdown) (3.4)\n",
            "Requirement already satisfied: PySocks!=1.5.7,>=1.5.6 in /usr/local/lib/python3.10/dist-packages (from requests[socks]->gdown) (1.7.1)\n",
            "Installing collected packages: gdown\n",
            "  Attempting uninstall: gdown\n",
            "    Found existing installation: gdown 4.6.6\n",
            "    Uninstalling gdown-4.6.6:\n",
            "      Successfully uninstalled gdown-4.6.6\n",
            "Successfully installed gdown-4.7.1\n",
            "\u001b[33mWARNING: Running pip as the 'root' user can result in broken permissions and conflicting behaviour with the system package manager. It is recommended to use a virtual environment instead: https://pip.pypa.io/warnings/venv\u001b[0m\u001b[33m\n",
            "\u001b[0mLooking in indexes: https://pypi.org/simple, https://us-python.pkg.dev/colab-wheels/public/simple/\n",
            "Collecting yacs\n",
            "  Downloading yacs-0.1.8-py3-none-any.whl (14 kB)\n",
            "Requirement already satisfied: PyYAML in /usr/local/lib/python3.10/dist-packages (from yacs) (6.0)\n",
            "Installing collected packages: yacs\n",
            "Successfully installed yacs-0.1.8\n",
            "\u001b[33mWARNING: Running pip as the 'root' user can result in broken permissions and conflicting behaviour with the system package manager. It is recommended to use a virtual environment instead: https://pip.pypa.io/warnings/venv\u001b[0m\u001b[33m\n",
            "\u001b[0mLooking in indexes: https://pypi.org/simple, https://us-python.pkg.dev/colab-wheels/public/simple/\n",
            "Collecting filterpy\n",
            "  Downloading filterpy-1.4.5.zip (177 kB)\n",
            "\u001b[2K     \u001b[90m━━━━━━━━━━━━━━━━━━━━━━━━━━━━━━━━━━━━━━\u001b[0m \u001b[32m178.0/178.0 kB\u001b[0m \u001b[31m16.2 MB/s\u001b[0m eta \u001b[36m0:00:00\u001b[0m\n",
            "\u001b[?25h  Preparing metadata (setup.py) ... \u001b[?25l\u001b[?25hdone\n",
            "Requirement already satisfied: numpy in /usr/local/lib/python3.10/dist-packages (from filterpy) (1.22.4)\n",
            "Requirement already satisfied: scipy in /usr/local/lib/python3.10/dist-packages (from filterpy) (1.10.1)\n",
            "Requirement already satisfied: matplotlib in /usr/local/lib/python3.10/dist-packages (from filterpy) (3.7.1)\n",
            "Requirement already satisfied: contourpy>=1.0.1 in /usr/local/lib/python3.10/dist-packages (from matplotlib->filterpy) (1.0.7)\n",
            "Requirement already satisfied: cycler>=0.10 in /usr/local/lib/python3.10/dist-packages (from matplotlib->filterpy) (0.11.0)\n",
            "Requirement already satisfied: fonttools>=4.22.0 in /usr/local/lib/python3.10/dist-packages (from matplotlib->filterpy) (4.39.3)\n",
            "Requirement already satisfied: kiwisolver>=1.0.1 in /usr/local/lib/python3.10/dist-packages (from matplotlib->filterpy) (1.4.4)\n",
            "Requirement already satisfied: packaging>=20.0 in /usr/local/lib/python3.10/dist-packages (from matplotlib->filterpy) (23.1)\n",
            "Requirement already satisfied: pillow>=6.2.0 in /usr/local/lib/python3.10/dist-packages (from matplotlib->filterpy) (8.4.0)\n",
            "Requirement already satisfied: pyparsing>=2.3.1 in /usr/local/lib/python3.10/dist-packages (from matplotlib->filterpy) (3.0.9)\n",
            "Requirement already satisfied: python-dateutil>=2.7 in /usr/local/lib/python3.10/dist-packages (from matplotlib->filterpy) (2.8.2)\n",
            "Requirement already satisfied: six>=1.5 in /usr/local/lib/python3.10/dist-packages (from python-dateutil>=2.7->matplotlib->filterpy) (1.16.0)\n",
            "Building wheels for collected packages: filterpy\n",
            "  Building wheel for filterpy (setup.py) ... \u001b[?25l\u001b[?25hdone\n",
            "  Created wheel for filterpy: filename=filterpy-1.4.5-py3-none-any.whl size=110473 sha256=261826e2e5f6975566c0dafac00481dff8da3189e9990ab605529bd3e815ac56\n",
            "  Stored in directory: /root/.cache/pip/wheels/0f/0c/ea/218f266af4ad626897562199fbbcba521b8497303200186102\n",
            "Successfully built filterpy\n",
            "Installing collected packages: filterpy\n",
            "Successfully installed filterpy-1.4.5\n",
            "\u001b[33mWARNING: Running pip as the 'root' user can result in broken permissions and conflicting behaviour with the system package manager. It is recommended to use a virtual environment instead: https://pip.pypa.io/warnings/venv\u001b[0m\u001b[33m\n",
            "\u001b[0mLooking in indexes: https://pypi.org/simple, https://us-python.pkg.dev/colab-wheels/public/simple/\n",
            "Collecting einops\n",
            "  Downloading einops-0.6.1-py3-none-any.whl (42 kB)\n",
            "\u001b[2K     \u001b[90m━━━━━━━━━━━━━━━━━━━━━━━━━━━━━━━━━━━━━━━━\u001b[0m \u001b[32m42.2/42.2 kB\u001b[0m \u001b[31m4.5 MB/s\u001b[0m eta \u001b[36m0:00:00\u001b[0m\n",
            "\u001b[?25hInstalling collected packages: einops\n",
            "Successfully installed einops-0.6.1\n",
            "\u001b[33mWARNING: Running pip as the 'root' user can result in broken permissions and conflicting behaviour with the system package manager. It is recommended to use a virtual environment instead: https://pip.pypa.io/warnings/venv\u001b[0m\u001b[33m\n",
            "\u001b[0mLooking in indexes: https://pypi.org/simple, https://us-python.pkg.dev/colab-wheels/public/simple/\n",
            "Collecting yt-dlp\n",
            "  Downloading yt_dlp-2023.3.4-py2.py3-none-any.whl (2.9 MB)\n",
            "\u001b[2K     \u001b[90m━━━━━━━━━━━━━━━━━━━━━━━━━━━━━━━━━━━━━━━━\u001b[0m \u001b[32m2.9/2.9 MB\u001b[0m \u001b[31m78.9 MB/s\u001b[0m eta \u001b[36m0:00:00\u001b[0m\n",
            "\u001b[?25hRequirement already satisfied: moviepy in /usr/local/lib/python3.10/dist-packages (1.0.3)\n",
            "Collecting mutagen (from yt-dlp)\n",
            "  Downloading mutagen-1.46.0-py3-none-any.whl (193 kB)\n",
            "\u001b[2K     \u001b[90m━━━━━━━━━━━━━━━━━━━━━━━━━━━━━━━━━━━━━━\u001b[0m \u001b[32m193.6/193.6 kB\u001b[0m \u001b[31m29.0 MB/s\u001b[0m eta \u001b[36m0:00:00\u001b[0m\n",
            "\u001b[?25hCollecting pycryptodomex (from yt-dlp)\n",
            "  Downloading pycryptodomex-3.17-cp35-abi3-manylinux_2_17_x86_64.manylinux2014_x86_64.whl (2.1 MB)\n",
            "\u001b[2K     \u001b[90m━━━━━━━━━━━━━━━━━━━━━━━━━━━━━━━━━━━━━━━━\u001b[0m \u001b[32m2.1/2.1 MB\u001b[0m \u001b[31m87.8 MB/s\u001b[0m eta \u001b[36m0:00:00\u001b[0m\n",
            "\u001b[?25hCollecting websockets (from yt-dlp)\n",
            "  Downloading websockets-11.0.2-cp310-cp310-manylinux_2_5_x86_64.manylinux1_x86_64.manylinux_2_17_x86_64.manylinux2014_x86_64.whl (129 kB)\n",
            "\u001b[2K     \u001b[90m━━━━━━━━━━━━━━━━━━━━━━━━━━━━━━━━━━━━━━\u001b[0m \u001b[32m129.9/129.9 kB\u001b[0m \u001b[31m16.8 MB/s\u001b[0m eta \u001b[36m0:00:00\u001b[0m\n",
            "\u001b[?25hRequirement already satisfied: certifi in /usr/local/lib/python3.10/dist-packages (from yt-dlp) (2022.12.7)\n",
            "Collecting brotli (from yt-dlp)\n",
            "  Downloading Brotli-1.0.9-cp310-cp310-manylinux_2_5_x86_64.manylinux1_x86_64.manylinux_2_12_x86_64.manylinux2010_x86_64.whl (2.7 MB)\n",
            "\u001b[2K     \u001b[90m━━━━━━━━━━━━━━━━━━━━━━━━━━━━━━━━━━━━━━━━\u001b[0m \u001b[32m2.7/2.7 MB\u001b[0m \u001b[31m83.8 MB/s\u001b[0m eta \u001b[36m0:00:00\u001b[0m\n",
            "\u001b[?25hRequirement already satisfied: decorator<5.0,>=4.0.2 in /usr/local/lib/python3.10/dist-packages (from moviepy) (4.4.2)\n",
            "Requirement already satisfied: tqdm<5.0,>=4.11.2 in /usr/local/lib/python3.10/dist-packages (from moviepy) (4.65.0)\n",
            "Requirement already satisfied: requests<3.0,>=2.8.1 in /usr/local/lib/python3.10/dist-packages (from moviepy) (2.27.1)\n",
            "Requirement already satisfied: proglog<=1.0.0 in /usr/local/lib/python3.10/dist-packages (from moviepy) (0.1.10)\n",
            "Requirement already satisfied: numpy>=1.17.3 in /usr/local/lib/python3.10/dist-packages (from moviepy) (1.22.4)\n",
            "Requirement already satisfied: imageio<3.0,>=2.5 in /usr/local/lib/python3.10/dist-packages (from moviepy) (2.25.1)\n",
            "Requirement already satisfied: imageio-ffmpeg>=0.2.0 in /usr/local/lib/python3.10/dist-packages (from moviepy) (0.4.8)\n",
            "Requirement already satisfied: pillow>=8.3.2 in /usr/local/lib/python3.10/dist-packages (from imageio<3.0,>=2.5->moviepy) (8.4.0)\n",
            "Requirement already satisfied: urllib3<1.27,>=1.21.1 in /usr/local/lib/python3.10/dist-packages (from requests<3.0,>=2.8.1->moviepy) (1.26.15)\n",
            "Requirement already satisfied: charset-normalizer~=2.0.0 in /usr/local/lib/python3.10/dist-packages (from requests<3.0,>=2.8.1->moviepy) (2.0.12)\n",
            "Requirement already satisfied: idna<4,>=2.5 in /usr/local/lib/python3.10/dist-packages (from requests<3.0,>=2.8.1->moviepy) (3.4)\n",
            "Installing collected packages: brotli, websockets, pycryptodomex, mutagen, yt-dlp\n",
            "Successfully installed brotli-1.0.9 mutagen-1.46.0 pycryptodomex-3.17 websockets-11.0.2 yt-dlp-2023.3.4\n",
            "\u001b[33mWARNING: Running pip as the 'root' user can result in broken permissions and conflicting behaviour with the system package manager. It is recommended to use a virtual environment instead: https://pip.pypa.io/warnings/venv\u001b[0m\u001b[33m\n",
            "\u001b[0mLooking in indexes: https://pypi.org/simple, https://us-python.pkg.dev/colab-wheels/public/simple/\n",
            "Requirement already satisfied: matplotlib in /usr/local/lib/python3.10/dist-packages (3.7.1)\n",
            "Requirement already satisfied: contourpy>=1.0.1 in /usr/local/lib/python3.10/dist-packages (from matplotlib) (1.0.7)\n",
            "Requirement already satisfied: cycler>=0.10 in /usr/local/lib/python3.10/dist-packages (from matplotlib) (0.11.0)\n",
            "Requirement already satisfied: fonttools>=4.22.0 in /usr/local/lib/python3.10/dist-packages (from matplotlib) (4.39.3)\n",
            "Requirement already satisfied: kiwisolver>=1.0.1 in /usr/local/lib/python3.10/dist-packages (from matplotlib) (1.4.4)\n",
            "Requirement already satisfied: numpy>=1.20 in /usr/local/lib/python3.10/dist-packages (from matplotlib) (1.22.4)\n",
            "Requirement already satisfied: packaging>=20.0 in /usr/local/lib/python3.10/dist-packages (from matplotlib) (23.1)\n",
            "Requirement already satisfied: pillow>=6.2.0 in /usr/local/lib/python3.10/dist-packages (from matplotlib) (8.4.0)\n",
            "Requirement already satisfied: pyparsing>=2.3.1 in /usr/local/lib/python3.10/dist-packages (from matplotlib) (3.0.9)\n",
            "Requirement already satisfied: python-dateutil>=2.7 in /usr/local/lib/python3.10/dist-packages (from matplotlib) (2.8.2)\n",
            "Requirement already satisfied: six>=1.5 in /usr/local/lib/python3.10/dist-packages (from python-dateutil>=2.7->matplotlib) (1.16.0)\n",
            "\u001b[33mWARNING: Running pip as the 'root' user can result in broken permissions and conflicting behaviour with the system package manager. It is recommended to use a virtual environment instead: https://pip.pypa.io/warnings/venv\u001b[0m\u001b[33m\n",
            "\u001b[0mLooking in indexes: https://pypi.org/simple, https://us-python.pkg.dev/colab-wheels/public/simple/\n",
            "Collecting imageio==2.4.1\n",
            "  Downloading imageio-2.4.1.tar.gz (3.3 MB)\n",
            "\u001b[2K     \u001b[90m━━━━━━━━━━━━━━━━━━━━━━━━━━━━━━━━━━━━━━━━\u001b[0m \u001b[32m3.3/3.3 MB\u001b[0m \u001b[31m24.1 MB/s\u001b[0m eta \u001b[36m0:00:00\u001b[0m\n",
            "\u001b[?25h  Preparing metadata (setup.py) ... \u001b[?25l\u001b[?25hdone\n",
            "Requirement already satisfied: numpy in /usr/local/lib/python3.10/dist-packages (from imageio==2.4.1) (1.22.4)\n",
            "Requirement already satisfied: pillow in /usr/local/lib/python3.10/dist-packages (from imageio==2.4.1) (8.4.0)\n",
            "Building wheels for collected packages: imageio\n",
            "  Building wheel for imageio (setup.py) ... \u001b[?25l\u001b[?25hdone\n",
            "  Created wheel for imageio: filename=imageio-2.4.1-py3-none-any.whl size=3303886 sha256=25669ddda07c17df89736eac2c05bce23a51d66684bf53f4fa0643329959ebd7\n",
            "  Stored in directory: /root/.cache/pip/wheels/96/5d/ce/bdbdb04744dac03906336eb0d01ff1e222061d3419c55c55f9\n",
            "Successfully built imageio\n",
            "Installing collected packages: imageio\n",
            "  Attempting uninstall: imageio\n",
            "    Found existing installation: imageio 2.25.1\n",
            "    Uninstalling imageio-2.25.1:\n",
            "      Successfully uninstalled imageio-2.25.1\n",
            "\u001b[31mERROR: pip's dependency resolver does not currently take into account all the packages that are installed. This behaviour is the source of the following dependency conflicts.\n",
            "moviepy 1.0.3 requires imageio<3.0,>=2.5; python_version >= \"3.4\", but you have imageio 2.4.1 which is incompatible.\u001b[0m\u001b[31m\n",
            "\u001b[0mSuccessfully installed imageio-2.4.1\n",
            "\u001b[33mWARNING: Running pip as the 'root' user can result in broken permissions and conflicting behaviour with the system package manager. It is recommended to use a virtual environment instead: https://pip.pypa.io/warnings/venv\u001b[0m\u001b[33m\n",
            "\u001b[0m"
          ]
        }
      ],
      "source": [
        "#%cd /content/StridedTransformer-Pose3D\n",
        "%cd /content/3d-human-pose-estimation\n",
        "\n",
        "!pip install wheel setuptools pip --upgrade\n",
        "\n",
        "!pip install --upgrade gdown\n",
        "!pip install yacs\n",
        "!pip install filterpy\n",
        "!pip install einops\n",
        "!pip install yt-dlp moviepy\n",
        "#!pip install matplotlib==3.0.3\n",
        "!pip install matplotlib\n",
        "!pip install imageio==2.4.1"
      ]
    },
    {
      "cell_type": "code",
      "source": [
        "#from yt_dlp import YoutubeDL\n",
        "import cv2\n",
        "print(cv2.__version__)\n",
        "!python -V"
      ],
      "metadata": {
        "colab": {
          "base_uri": "https://localhost:8080/"
        },
        "id": "qJyXE9Co0LVO",
        "outputId": "ea6032d5-0470-4a0c-979e-a0ab3217ba7d"
      },
      "execution_count": null,
      "outputs": [
        {
          "output_type": "stream",
          "name": "stdout",
          "text": [
            "4.7.0\n",
            "Python 3.10.11\n"
          ]
        }
      ]
    },
    {
      "cell_type": "markdown",
      "metadata": {
        "id": "mgANPXUSy_MJ"
      },
      "source": [
        "## ライブラリのインポート"
      ]
    },
    {
      "cell_type": "code",
      "execution_count": null,
      "metadata": {
        "colab": {
          "base_uri": "https://localhost:8080/"
        },
        "id": "hq7ZoY0oh260",
        "outputId": "86c2c154-40f2-4ec1-9e8f-4664374f9d12"
      },
      "outputs": [
        {
          "output_type": "stream",
          "name": "stdout",
          "text": [
            "/content/3d-human-pose-estimation\n"
          ]
        }
      ],
      "source": [
        "#%cd /content/StridedTransformer-Pose3D\n",
        "%cd /content/3d-human-pose-estimation\n",
        "\n",
        "import os\n",
        "\n",
        "from yt_dlp import YoutubeDL\n",
        "\n",
        "from moviepy.video.fx.resize import resize\n",
        "from moviepy.editor import VideoFileClip, AudioFileClip, ImageSequenceClip, CompositeAudioClip\n",
        "from moviepy.video.io.ffmpeg_tools import ffmpeg_extract_subclip"
      ]
    },
    {
      "cell_type": "markdown",
      "metadata": {
        "id": "jRBoab25xtgl"
      },
      "source": [
        "## 学習済みモデルのセットアップ"
      ]
    },
    {
      "cell_type": "code",
      "execution_count": null,
      "metadata": {
        "colab": {
          "base_uri": "https://localhost:8080/"
        },
        "id": "5cSMMFMwx2P5",
        "outputId": "038721f2-2d72-434a-c294-a13b6ed8fe0d"
      },
      "outputs": [
        {
          "output_type": "stream",
          "name": "stdout",
          "text": [
            "/content/3d-human-pose-estimation\n",
            "Downloading...\n",
            "From: https://drive.google.com/uc?id=1aDLu0SB9JnPYZOOzQsJMV9zEIHg2Uro7\n",
            "To: /content/3d-human-pose-estimation/checkpoint/pretrained/refine_4365.pth\n",
            "100% 563k/563k [00:00<00:00, 169MB/s]\n",
            "Downloading...\n",
            "From: https://drive.google.com/uc?id=1l63AI9BsNovpfTAbfAkySo9X2MOWgYZH\n",
            "To: /content/3d-human-pose-estimation/checkpoint/pretrained/no_refine_4365.pth\n",
            "100% 17.4M/17.4M [00:00<00:00, 180MB/s]\n",
            "Downloading...\n",
            "From (uriginal): https://drive.google.com/uc?id=1gWZl1VrlLZKBf0Pfkj4hKiFxe8sHP-1C\n",
            "From (redirected): https://drive.google.com/uc?id=1gWZl1VrlLZKBf0Pfkj4hKiFxe8sHP-1C&confirm=t&uuid=8fa01b79-5333-4115-9647-efd9ed10d3ad\n",
            "To: /content/3d-human-pose-estimation/demo/lib/checkpoint/yolov3.weights\n",
            "100% 248M/248M [00:01<00:00, 176MB/s]\n",
            "Downloading...\n",
            "From (uriginal): https://drive.google.com/uc?id=1CpyZiUIUlEjiql4rILwdBT4666S72Oq4\n",
            "From (redirected): https://drive.google.com/uc?id=1CpyZiUIUlEjiql4rILwdBT4666S72Oq4&confirm=t&uuid=94d8c5cb-6f84-4a93-8918-4f319d05331a\n",
            "To: /content/3d-human-pose-estimation/demo/lib/checkpoint/pose_hrnet_w48_384x288.pth\n",
            "100% 255M/255M [00:02<00:00, 123MB/s]\n"
          ]
        }
      ],
      "source": [
        "#%cd /content/StridedTransformer-Pose3D\n",
        "%cd /content/3d-human-pose-estimation\n",
        "!mkdir -p ./checkpoint/pretrained\n",
        "\n",
        "if not os.path.exists('checkpoint/pretrained/refine_4365.pth'):\n",
        "  !gdown https://drive.google.com/uc?id=1aDLu0SB9JnPYZOOzQsJMV9zEIHg2Uro7 -O checkpoint/pretrained/refine_4365.pth\n",
        "if not os.path.exists('checkpoint/pretrained/no_refine_4365.pth'):\n",
        "  !gdown https://drive.google.com/uc?id=1l63AI9BsNovpfTAbfAkySo9X2MOWgYZH -O checkpoint/pretrained/no_refine_4365.pth\n",
        "\n",
        "if not os.path.exists('demo/lib/checkpoint/yolov3.weights'):\n",
        "  !gdown https://drive.google.com/uc?id=1gWZl1VrlLZKBf0Pfkj4hKiFxe8sHP-1C -O demo/lib/checkpoint/yolov3.weights\n",
        "if not os.path.exists('demo/lib/checkpoint/pose_hrnet_w48_384x288.pth'):\n",
        "  !gdown https://drive.google.com/uc?id=1CpyZiUIUlEjiql4rILwdBT4666S72Oq4 -O demo/lib/checkpoint/pose_hrnet_w48_384x288.pth"
      ]
    },
    {
      "cell_type": "markdown",
      "metadata": {
        "id": "_BB4TY8OyFkw"
      },
      "source": [
        "# テスト動画のセットアップ\n",
        "47-62\n",
        "\n"
      ]
    },
    {
      "cell_type": "markdown",
      "source": [
        "## 動画のトリミング"
      ],
      "metadata": {
        "id": "lQ8FATVQHww5"
      }
    },
    {
      "cell_type": "code",
      "execution_count": null,
      "metadata": {
        "colab": {
          "base_uri": "https://localhost:8080/"
        },
        "id": "O6-h-pFo_jHI",
        "outputId": "7ac828b5-244e-4efc-a2e5-98412189f0d6"
      },
      "outputs": [
        {
          "output_type": "stream",
          "name": "stdout",
          "text": [
            "/content/3d-human-pose-estimation/demo/video\n"
          ]
        }
      ],
      "source": [
        "#%cd /content/StridedTransformer-Pose3D/demo/video\n",
        "\n",
        "%cd /content/3d-human-pose-estimation/demo/video\n",
        "video_url = 'https://youtu.be/MxkaCTn6Igs' #@param {type:\"string\"}\n",
        "\n",
        "#@markdown 動画の切り抜き範囲(秒)を指定してください。\\\n",
        "#@markdown 30秒以上の場合OOM発生の可能性が高いため注意\n",
        "start_sec =  33#@param {type:\"integer\"}\n",
        "end_sec =  34#@param {type:\"integer\"}\n",
        "\n",
        "(start_pt, end_pt) = (start_sec, end_sec)"
      ]
    },
    {
      "cell_type": "code",
      "execution_count": null,
      "metadata": {
        "colab": {
          "base_uri": "https://localhost:8080/"
        },
        "id": "QpQvx6Oo8gpr",
        "outputId": "534e5901-4f46-431b-c209-91d22e3cb137"
      },
      "outputs": [
        {
          "output_type": "stream",
          "name": "stdout",
          "text": [
            "[youtube] Extracting URL: https://youtu.be/MxkaCTn6Igs\n",
            "[youtube] MxkaCTn6Igs: Downloading webpage\n",
            "[youtube] MxkaCTn6Igs: Downloading android player API JSON\n",
            "[info] MxkaCTn6Igs: Downloading 1 format(s): 18\n",
            "Deleting existing file /content/3d-human-pose-estimation/demo/video/full_video.mp4\n",
            "[download] Destination: /content/3d-human-pose-estimation/demo/video/full_video.mp4\n",
            "[download] 100% of    7.65MiB in 00:00:00 at 45.55MiB/s  \n",
            "Moviepy - Building video /content/3d-human-pose-estimation/demo/video/input_clip.mp4.\n",
            "MoviePy - Writing audio in input_clipTEMP_MPY_wvf_snd.mp3\n"
          ]
        },
        {
          "output_type": "stream",
          "name": "stderr",
          "text": []
        },
        {
          "output_type": "stream",
          "name": "stdout",
          "text": [
            "MoviePy - Done.\n",
            "Moviepy - Writing video /content/3d-human-pose-estimation/demo/video/input_clip.mp4\n",
            "\n"
          ]
        },
        {
          "output_type": "stream",
          "name": "stderr",
          "text": []
        },
        {
          "output_type": "stream",
          "name": "stdout",
          "text": [
            "Moviepy - Done !\n",
            "Moviepy - video ready /content/3d-human-pose-estimation/demo/video/input_clip.mp4\n"
          ]
        }
      ],
      "source": [
        "download_resolution = 360\n",
        "\n",
        "full_video_path = '/content/3d-human-pose-estimation/demo/video/full_video.mp4'\n",
        "file_name = 'input_clip.mp4'\n",
        "input_clip_path = '/content/3d-human-pose-estimation/demo/video/' + file_name\n",
        "\n",
        "# 動画ダウンロード\n",
        "ydl_opts = {'format': f'best[height<={download_resolution}]', 'overwrites': True, 'outtmpl': full_video_path}\n",
        "with YoutubeDL(ydl_opts) as ydl:\n",
        "    ydl.download([video_url])\n",
        "\n",
        "# 指定区間切り抜き\n",
        "with VideoFileClip(full_video_path) as video:\n",
        "    subclip = video.subclip(start_pt, end_pt)\n",
        "    subclip.write_videofile(input_clip_path)"
      ]
    },
    {
      "cell_type": "markdown",
      "source": [
        "## スローモーション化\n",
        "https://watlab-blog.com/2019/09/28/movie-speed/"
      ],
      "metadata": {
        "id": "QEo2AfpIDyWD"
      }
    },
    {
      "cell_type": "code",
      "source": [
        "import cv2\n",
        "import math\n",
        " \n",
        "# 動画を読み込み、FPSを変更して別名で保存する関数\n",
        "def m_speed_change(path_in, path_out, scale_factor, color_flag):\n",
        "    # 動画読み込みの設定\n",
        "    movie = cv2.VideoCapture(path_in)\n",
        "\n",
        "    # 動画ファイル保存用の設定\n",
        "    fps = movie.get(cv2.CAP_PROP_FPS)                                  # 元動画のFPSを取得\n",
        "    fps_round = math.floor(fps+1)   #fps小数点以下の切り上げ\n",
        "    fps_new = int(fps_round * scale_factor)                            # 動画保存時のFPSはスケールファクターをかける\n",
        "    print(\"scale:{},fps:{},fps_round:{},fps_new:{}\".format(scale_factor,fps,fps_round,fps_new))\n",
        "    w = int(movie.get(cv2.CAP_PROP_FRAME_WIDTH))                            # 動画の横幅を取得\n",
        "    h = int(movie.get(cv2.CAP_PROP_FRAME_HEIGHT))                           # 動画の縦幅を取得\n",
        "    fourcc = cv2.VideoWriter_fourcc('m', 'p', '4', 'v')                     # 動画保存時のfourcc設定（mp4用）\n",
        "    video = cv2.VideoWriter(path_out, fourcc, fps_new, (w, h), color_flag)  # 動画の仕様（ファイル名、fourcc, FPS, サイズ）\n",
        " \n",
        "    # ファイルからフレームを1枚ずつ取得して動画処理後に保存する\n",
        "    while True:\n",
        "        ret, frame = movie.read()        # フレームを取得\n",
        "        video.write(frame)               # 動画を保存する\n",
        "        # フレームが取得できない場合はループを抜ける\n",
        "        if not ret:\n",
        "            break\n",
        "    # 撮影用オブジェクトとウィンドウの解放\n",
        "    movie.release()\n",
        "    return\n",
        " \n",
        "path_in = input_clip_path         # 元動画のパス\n",
        "slow_motion_filename = 'fps_changed_input_video.mp4'\n",
        "path_out = '/content/3d-human-pose-estimation/demo/video/' +  slow_motion_filename     # 保存する動画のパス\n",
        "scale_factor = 1/30              # FPSにかけるスケールファクター\n",
        "color_flag = True               # カラー動画はTrue, グレースケール動画はFalse\n",
        " \n",
        "# 動画の再生速度を変更する関数を実行\n",
        "m_speed_change(path_in, path_out, scale_factor, color_flag)"
      ],
      "metadata": {
        "id": "Q9uJru-LBG4a",
        "colab": {
          "base_uri": "https://localhost:8080/"
        },
        "outputId": "0b08c200-0078-433b-c4f9-8e83719f17d4"
      },
      "execution_count": null,
      "outputs": [
        {
          "output_type": "stream",
          "name": "stdout",
          "text": [
            "scale:0.03333333333333333,fps:29.97,fps_round:30,fps_new:1\n"
          ]
        }
      ]
    },
    {
      "cell_type": "markdown",
      "metadata": {
        "id": "dOmybPEWnefE"
      },
      "source": [
        "##3D Human Pose Estimation"
      ]
    },
    {
      "cell_type": "code",
      "execution_count": null,
      "metadata": {
        "colab": {
          "base_uri": "https://localhost:8080/"
        },
        "id": "jqp2Ev6NnhXW",
        "outputId": "d8585415-da1d-4d18-c9eb-36c5955ccc22"
      },
      "outputs": [
        {
          "output_type": "stream",
          "name": "stdout",
          "text": [
            "/content/3d-human-pose-estimation\n",
            "4.7.0\n",
            "\n",
            "Generating 2D pose...\n",
            "100% 30/30 [00:04<00:00,  6.12it/s]\n",
            "Generating 2D pose successful!\n",
            "\n",
            "Generating 3D pose...\n",
            "  0% 0/30 [00:00<?, ?it/s]\n",
            "joint_id:0,(x,y,z)=(0.000,0.000,0.651),unity座標系(x,y,z)=(0.000,0.651,-0.000)\n",
            "joint_id:1,(x,y,z)=(0.123,-0.062,0.648),unity座標系(x,y,z)=(-0.062,0.648,-0.123)\n",
            "joint_id:2,(x,y,z)=(0.247,0.289,0.447),unity座標系(x,y,z)=(0.289,0.447,-0.247)\n",
            "joint_id:3,(x,y,z)=(0.199,0.191,0.023),unity座標系(x,y,z)=(0.191,0.023,-0.199)\n",
            "joint_id:4,(x,y,z)=(-0.122,0.062,0.654),unity座標系(x,y,z)=(0.062,0.654,0.122)\n",
            "joint_id:5,(x,y,z)=(0.084,0.402,0.454),unity座標系(x,y,z)=(0.402,0.454,-0.084)\n",
            "joint_id:6,(x,y,z)=(0.070,0.389,0.000),unity座標系(x,y,z)=(0.389,0.000,-0.070)\n",
            "joint_id:7,(x,y,z)=(0.000,0.022,0.907),unity座標系(x,y,z)=(0.022,0.907,-0.000)\n",
            "joint_id:8,(x,y,z)=(0.024,0.083,1.148),unity座標系(x,y,z)=(0.083,1.148,-0.024)\n",
            "joint_id:9,(x,y,z)=(0.035,0.135,1.260),unity座標系(x,y,z)=(0.135,1.260,-0.035)\n",
            "joint_id:10,(x,y,z)=(0.031,0.070,1.355),unity座標系(x,y,z)=(0.070,1.355,-0.031)\n",
            "joint_id:11,(x,y,z)=(-0.132,0.122,1.087),unity座標系(x,y,z)=(0.122,1.087,0.132)\n",
            "joint_id:12,(x,y,z)=(-0.345,0.148,0.837),unity座標系(x,y,z)=(0.148,0.837,0.345)\n",
            "joint_id:13,(x,y,z)=(-0.104,0.230,0.760),unity座標系(x,y,z)=(0.230,0.760,0.104)\n",
            "joint_id:14,(x,y,z)=(0.162,-0.004,1.071),unity座標系(x,y,z)=(-0.004,1.071,-0.162)\n",
            "joint_id:15,(x,y,z)=(0.312,-0.107,0.812),unity座標系(x,y,z)=(-0.107,0.812,-0.312)\n",
            "joint_id:16,(x,y,z)=(0.212,0.126,0.751),unity座標系(x,y,z)=(0.126,0.751,-0.212)\n",
            "  3% 1/30 [00:00<00:19,  1.51it/s]\n",
            "joint_id:0,(x,y,z)=(0.000,0.000,0.649),unity座標系(x,y,z)=(0.000,0.649,-0.000)\n",
            "joint_id:1,(x,y,z)=(0.123,-0.061,0.646),unity座標系(x,y,z)=(-0.061,0.646,-0.123)\n",
            "joint_id:2,(x,y,z)=(0.244,0.292,0.445),unity座標系(x,y,z)=(0.292,0.445,-0.244)\n",
            "joint_id:3,(x,y,z)=(0.202,0.194,0.020),unity座標系(x,y,z)=(0.194,0.020,-0.202)\n",
            "joint_id:4,(x,y,z)=(-0.123,0.060,0.652),unity座標系(x,y,z)=(0.060,0.652,0.123)\n",
            "joint_id:5,(x,y,z)=(0.081,0.403,0.454),unity座標系(x,y,z)=(0.403,0.454,-0.081)\n",
            "joint_id:6,(x,y,z)=(0.067,0.387,0.000),unity座標系(x,y,z)=(0.387,0.000,-0.067)\n",
            "joint_id:7,(x,y,z)=(0.001,0.020,0.905),unity座標系(x,y,z)=(0.020,0.905,-0.001)\n",
            "joint_id:8,(x,y,z)=(0.025,0.081,1.147),unity座標系(x,y,z)=(0.081,1.147,-0.025)\n",
            "joint_id:9,(x,y,z)=(0.034,0.134,1.259),unity座標系(x,y,z)=(0.134,1.259,-0.034)\n",
            "joint_id:10,(x,y,z)=(0.030,0.069,1.354),unity座標系(x,y,z)=(0.069,1.354,-0.030)\n",
            "joint_id:11,(x,y,z)=(-0.132,0.118,1.086),unity座標系(x,y,z)=(0.118,1.086,0.132)\n",
            "joint_id:12,(x,y,z)=(-0.346,0.147,0.838),unity座標系(x,y,z)=(0.147,0.838,0.346)\n",
            "joint_id:13,(x,y,z)=(-0.104,0.231,0.764),unity座標系(x,y,z)=(0.231,0.764,0.104)\n",
            "joint_id:14,(x,y,z)=(0.163,-0.004,1.070),unity座標系(x,y,z)=(-0.004,1.070,-0.163)\n",
            "joint_id:15,(x,y,z)=(0.315,-0.104,0.811),unity座標系(x,y,z)=(-0.104,0.811,-0.315)\n",
            "joint_id:16,(x,y,z)=(0.215,0.128,0.749),unity座標系(x,y,z)=(0.128,0.749,-0.215)\n",
            "  7% 2/30 [00:01<00:17,  1.65it/s]\n",
            "joint_id:0,(x,y,z)=(0.000,0.000,0.646),unity座標系(x,y,z)=(0.000,0.646,-0.000)\n",
            "joint_id:1,(x,y,z)=(0.124,-0.059,0.642),unity座標系(x,y,z)=(-0.059,0.642,-0.124)\n",
            "joint_id:2,(x,y,z)=(0.243,0.295,0.443),unity座標系(x,y,z)=(0.295,0.443,-0.243)\n",
            "joint_id:3,(x,y,z)=(0.205,0.196,0.018),unity座標系(x,y,z)=(0.196,0.018,-0.205)\n",
            "joint_id:4,(x,y,z)=(-0.123,0.059,0.649),unity座標系(x,y,z)=(0.059,0.649,0.123)\n",
            "joint_id:5,(x,y,z)=(0.078,0.405,0.453),unity座標系(x,y,z)=(0.405,0.453,-0.078)\n",
            "joint_id:6,(x,y,z)=(0.065,0.386,0.000),unity座標系(x,y,z)=(0.386,0.000,-0.065)\n",
            "joint_id:7,(x,y,z)=(0.002,0.019,0.902),unity座標系(x,y,z)=(0.019,0.902,-0.002)\n",
            "joint_id:8,(x,y,z)=(0.025,0.079,1.144),unity座標系(x,y,z)=(0.079,1.144,-0.025)\n",
            "joint_id:9,(x,y,z)=(0.033,0.132,1.256),unity座標系(x,y,z)=(0.132,1.256,-0.033)\n",
            "joint_id:10,(x,y,z)=(0.028,0.068,1.351),unity座標系(x,y,z)=(0.068,1.351,-0.028)\n",
            "joint_id:11,(x,y,z)=(-0.133,0.115,1.084),unity座標系(x,y,z)=(0.115,1.084,0.133)\n",
            "joint_id:12,(x,y,z)=(-0.347,0.146,0.839),unity座標系(x,y,z)=(0.146,0.839,0.347)\n",
            "joint_id:13,(x,y,z)=(-0.104,0.232,0.769),unity座標系(x,y,z)=(0.232,0.769,0.104)\n",
            "joint_id:14,(x,y,z)=(0.164,-0.004,1.068),unity座標系(x,y,z)=(-0.004,1.068,-0.164)\n",
            "joint_id:15,(x,y,z)=(0.317,-0.102,0.809),unity座標系(x,y,z)=(-0.102,0.809,-0.317)\n",
            "joint_id:16,(x,y,z)=(0.218,0.129,0.746),unity座標系(x,y,z)=(0.129,0.746,-0.218)\n",
            " 10% 3/30 [00:02<00:19,  1.39it/s]\n",
            "joint_id:0,(x,y,z)=(0.000,0.000,0.643),unity座標系(x,y,z)=(0.000,0.643,-0.000)\n",
            "joint_id:1,(x,y,z)=(0.125,-0.058,0.639),unity座標系(x,y,z)=(-0.058,0.639,-0.125)\n",
            "joint_id:2,(x,y,z)=(0.241,0.297,0.441),unity座標系(x,y,z)=(0.297,0.441,-0.241)\n",
            "joint_id:3,(x,y,z)=(0.207,0.199,0.015),unity座標系(x,y,z)=(0.199,0.015,-0.207)\n",
            "joint_id:4,(x,y,z)=(-0.124,0.058,0.646),unity座標系(x,y,z)=(0.058,0.646,0.124)\n",
            "joint_id:5,(x,y,z)=(0.075,0.407,0.453),unity座標系(x,y,z)=(0.407,0.453,-0.075)\n",
            "joint_id:6,(x,y,z)=(0.063,0.384,0.000),unity座標系(x,y,z)=(0.384,0.000,-0.063)\n",
            "joint_id:7,(x,y,z)=(0.002,0.017,0.900),unity座標系(x,y,z)=(0.017,0.900,-0.002)\n",
            "joint_id:8,(x,y,z)=(0.025,0.075,1.142),unity座標系(x,y,z)=(0.075,1.142,-0.025)\n",
            "joint_id:9,(x,y,z)=(0.030,0.130,1.253),unity座標系(x,y,z)=(0.130,1.253,-0.030)\n",
            "joint_id:10,(x,y,z)=(0.025,0.067,1.349),unity座標系(x,y,z)=(0.067,1.349,-0.025)\n",
            "joint_id:11,(x,y,z)=(-0.133,0.110,1.083),unity座標系(x,y,z)=(0.110,1.083,0.133)\n",
            "joint_id:12,(x,y,z)=(-0.349,0.144,0.843),unity座標系(x,y,z)=(0.144,0.843,0.349)\n",
            "joint_id:13,(x,y,z)=(-0.105,0.232,0.777),unity座標系(x,y,z)=(0.232,0.777,0.105)\n",
            "joint_id:14,(x,y,z)=(0.165,-0.005,1.067),unity座標系(x,y,z)=(-0.005,1.067,-0.165)\n",
            "joint_id:15,(x,y,z)=(0.320,-0.099,0.808),unity座標系(x,y,z)=(-0.099,0.808,-0.320)\n",
            "joint_id:16,(x,y,z)=(0.220,0.130,0.745),unity座標系(x,y,z)=(0.130,0.745,-0.220)\n",
            " 13% 4/30 [00:03<00:21,  1.20it/s]\n",
            "joint_id:0,(x,y,z)=(0.000,0.000,0.640),unity座標系(x,y,z)=(0.000,0.640,-0.000)\n",
            "joint_id:1,(x,y,z)=(0.125,-0.057,0.637),unity座標系(x,y,z)=(-0.057,0.637,-0.125)\n",
            "joint_id:2,(x,y,z)=(0.238,0.299,0.439),unity座標系(x,y,z)=(0.299,0.439,-0.238)\n",
            "joint_id:3,(x,y,z)=(0.209,0.200,0.012),unity座標系(x,y,z)=(0.200,0.012,-0.209)\n",
            "joint_id:4,(x,y,z)=(-0.124,0.056,0.644),unity座標系(x,y,z)=(0.056,0.644,0.124)\n",
            "joint_id:5,(x,y,z)=(0.071,0.407,0.452),unity座標系(x,y,z)=(0.407,0.452,-0.071)\n",
            "joint_id:6,(x,y,z)=(0.059,0.381,0.000),unity座標系(x,y,z)=(0.381,0.000,-0.059)\n",
            "joint_id:7,(x,y,z)=(0.003,0.016,0.898),unity座標系(x,y,z)=(0.016,0.898,-0.003)\n",
            "joint_id:8,(x,y,z)=(0.025,0.073,1.141),unity座標系(x,y,z)=(0.073,1.141,-0.025)\n",
            "joint_id:9,(x,y,z)=(0.028,0.129,1.252),unity座標系(x,y,z)=(0.129,1.252,-0.028)\n",
            "joint_id:10,(x,y,z)=(0.023,0.067,1.348),unity座標系(x,y,z)=(0.067,1.348,-0.023)\n",
            "joint_id:11,(x,y,z)=(-0.134,0.107,1.083),unity座標系(x,y,z)=(0.107,1.083,0.134)\n",
            "joint_id:12,(x,y,z)=(-0.351,0.145,0.848),unity座標系(x,y,z)=(0.145,0.848,0.351)\n",
            "joint_id:13,(x,y,z)=(-0.103,0.234,0.788),unity座標系(x,y,z)=(0.234,0.788,0.103)\n",
            "joint_id:14,(x,y,z)=(0.166,-0.005,1.066),unity座標系(x,y,z)=(-0.005,1.066,-0.166)\n",
            "joint_id:15,(x,y,z)=(0.323,-0.097,0.809),unity座標系(x,y,z)=(-0.097,0.809,-0.323)\n",
            "joint_id:16,(x,y,z)=(0.223,0.132,0.744),unity座標系(x,y,z)=(0.132,0.744,-0.223)\n",
            " 17% 5/30 [00:04<00:21,  1.15it/s]\n",
            "joint_id:0,(x,y,z)=(0.000,0.000,0.638),unity座標系(x,y,z)=(0.000,0.638,-0.000)\n",
            "joint_id:1,(x,y,z)=(0.126,-0.055,0.634),unity座標系(x,y,z)=(-0.055,0.634,-0.126)\n",
            "joint_id:2,(x,y,z)=(0.236,0.303,0.436),unity座標系(x,y,z)=(0.303,0.436,-0.236)\n",
            "joint_id:3,(x,y,z)=(0.213,0.204,0.010),unity座標系(x,y,z)=(0.204,0.010,-0.213)\n",
            "joint_id:4,(x,y,z)=(-0.125,0.055,0.642),unity座標系(x,y,z)=(0.055,0.642,0.125)\n",
            "joint_id:5,(x,y,z)=(0.066,0.408,0.452),unity座標系(x,y,z)=(0.408,0.452,-0.066)\n",
            "joint_id:6,(x,y,z)=(0.056,0.378,0.000),unity座標系(x,y,z)=(0.378,0.000,-0.056)\n",
            "joint_id:7,(x,y,z)=(0.004,0.014,0.896),unity座標系(x,y,z)=(0.014,0.896,-0.004)\n",
            "joint_id:8,(x,y,z)=(0.026,0.071,1.139),unity座標系(x,y,z)=(0.071,1.139,-0.026)\n",
            "joint_id:9,(x,y,z)=(0.026,0.128,1.249),unity座標系(x,y,z)=(0.128,1.249,-0.026)\n",
            "joint_id:10,(x,y,z)=(0.021,0.067,1.347),unity座標系(x,y,z)=(0.067,1.347,-0.021)\n",
            "joint_id:11,(x,y,z)=(-0.134,0.103,1.083),unity座標系(x,y,z)=(0.103,1.083,0.134)\n",
            "joint_id:12,(x,y,z)=(-0.352,0.146,0.857),unity座標系(x,y,z)=(0.146,0.857,0.352)\n",
            "joint_id:13,(x,y,z)=(-0.102,0.237,0.803),unity座標系(x,y,z)=(0.237,0.803,0.102)\n",
            "joint_id:14,(x,y,z)=(0.168,-0.005,1.066),unity座標系(x,y,z)=(-0.005,1.066,-0.168)\n",
            "joint_id:15,(x,y,z)=(0.327,-0.093,0.810),unity座標系(x,y,z)=(-0.093,0.810,-0.327)\n",
            "joint_id:16,(x,y,z)=(0.227,0.135,0.744),unity座標系(x,y,z)=(0.135,0.744,-0.227)\n",
            " 20% 6/30 [00:04<00:20,  1.16it/s]\n",
            "joint_id:0,(x,y,z)=(0.000,0.000,0.635),unity座標系(x,y,z)=(0.000,0.635,-0.000)\n",
            "joint_id:1,(x,y,z)=(0.127,-0.054,0.631),unity座標系(x,y,z)=(-0.054,0.631,-0.127)\n",
            "joint_id:2,(x,y,z)=(0.234,0.306,0.434),unity座標系(x,y,z)=(0.306,0.434,-0.234)\n",
            "joint_id:3,(x,y,z)=(0.216,0.207,0.007),unity座標系(x,y,z)=(0.207,0.007,-0.216)\n",
            "joint_id:4,(x,y,z)=(-0.126,0.054,0.639),unity座標系(x,y,z)=(0.054,0.639,0.126)\n",
            "joint_id:5,(x,y,z)=(0.062,0.411,0.450),unity座標系(x,y,z)=(0.411,0.450,-0.062)\n",
            "joint_id:6,(x,y,z)=(0.052,0.377,0.000),unity座標系(x,y,z)=(0.377,0.000,-0.052)\n",
            "joint_id:7,(x,y,z)=(0.005,0.013,0.893),unity座標系(x,y,z)=(0.013,0.893,-0.005)\n",
            "joint_id:8,(x,y,z)=(0.026,0.068,1.136),unity座標系(x,y,z)=(0.068,1.136,-0.026)\n",
            "joint_id:9,(x,y,z)=(0.024,0.126,1.246),unity座標系(x,y,z)=(0.126,1.246,-0.024)\n",
            "joint_id:10,(x,y,z)=(0.018,0.066,1.345),unity座標系(x,y,z)=(0.066,1.345,-0.018)\n",
            "joint_id:11,(x,y,z)=(-0.135,0.099,1.081),unity座標系(x,y,z)=(0.099,1.081,0.135)\n",
            "joint_id:12,(x,y,z)=(-0.352,0.148,0.863),unity座標系(x,y,z)=(0.148,0.863,0.352)\n",
            "joint_id:13,(x,y,z)=(-0.100,0.240,0.816),unity座標系(x,y,z)=(0.240,0.816,0.100)\n",
            "joint_id:14,(x,y,z)=(0.169,-0.006,1.064),unity座標系(x,y,z)=(-0.006,1.064,-0.169)\n",
            "joint_id:15,(x,y,z)=(0.331,-0.086,0.810),unity座標系(x,y,z)=(-0.086,0.810,-0.331)\n",
            "joint_id:16,(x,y,z)=(0.232,0.140,0.745),unity座標系(x,y,z)=(0.140,0.745,-0.232)\n",
            " 23% 7/30 [00:05<00:18,  1.23it/s]\n",
            "joint_id:0,(x,y,z)=(0.000,0.000,0.633),unity座標系(x,y,z)=(0.000,0.633,-0.000)\n",
            "joint_id:1,(x,y,z)=(0.127,-0.053,0.628),unity座標系(x,y,z)=(-0.053,0.628,-0.127)\n",
            "joint_id:2,(x,y,z)=(0.232,0.308,0.431),unity座標系(x,y,z)=(0.308,0.431,-0.232)\n",
            "joint_id:3,(x,y,z)=(0.218,0.209,0.005),unity座標系(x,y,z)=(0.209,0.005,-0.218)\n",
            "joint_id:4,(x,y,z)=(-0.126,0.052,0.637),unity座標系(x,y,z)=(0.052,0.637,0.126)\n",
            "joint_id:5,(x,y,z)=(0.057,0.412,0.449),unity座標系(x,y,z)=(0.412,0.449,-0.057)\n",
            "joint_id:6,(x,y,z)=(0.048,0.374,0.000),unity座標系(x,y,z)=(0.374,0.000,-0.048)\n",
            "joint_id:7,(x,y,z)=(0.006,0.011,0.891),unity座標系(x,y,z)=(0.011,0.891,-0.006)\n",
            "joint_id:8,(x,y,z)=(0.025,0.065,1.135),unity座標系(x,y,z)=(0.065,1.135,-0.025)\n",
            "joint_id:9,(x,y,z)=(0.023,0.123,1.244),unity座標系(x,y,z)=(0.123,1.244,-0.023)\n",
            "joint_id:10,(x,y,z)=(0.015,0.065,1.344),unity座標系(x,y,z)=(0.065,1.344,-0.015)\n",
            "joint_id:11,(x,y,z)=(-0.136,0.094,1.081),unity座標系(x,y,z)=(0.094,1.081,0.136)\n",
            "joint_id:12,(x,y,z)=(-0.351,0.150,0.872),unity座標系(x,y,z)=(0.150,0.872,0.351)\n",
            "joint_id:13,(x,y,z)=(-0.097,0.244,0.831),unity座標系(x,y,z)=(0.244,0.831,0.097)\n",
            "joint_id:14,(x,y,z)=(0.170,-0.007,1.064),unity座標系(x,y,z)=(-0.007,1.064,-0.170)\n",
            "joint_id:15,(x,y,z)=(0.336,-0.080,0.814),unity座標系(x,y,z)=(-0.080,0.814,-0.336)\n",
            "joint_id:16,(x,y,z)=(0.237,0.145,0.747),unity座標系(x,y,z)=(0.145,0.747,-0.237)\n",
            " 27% 8/30 [00:06<00:16,  1.36it/s]\n",
            "joint_id:0,(x,y,z)=(0.000,0.000,0.631),unity座標系(x,y,z)=(0.000,0.631,-0.000)\n",
            "joint_id:1,(x,y,z)=(0.127,-0.052,0.626),unity座標系(x,y,z)=(-0.052,0.626,-0.127)\n",
            "joint_id:2,(x,y,z)=(0.231,0.310,0.429),unity座標系(x,y,z)=(0.310,0.429,-0.231)\n",
            "joint_id:3,(x,y,z)=(0.220,0.211,0.003),unity座標系(x,y,z)=(0.211,0.003,-0.220)\n",
            "joint_id:4,(x,y,z)=(-0.126,0.052,0.635),unity座標系(x,y,z)=(0.052,0.635,0.126)\n",
            "joint_id:5,(x,y,z)=(0.053,0.413,0.447),unity座標系(x,y,z)=(0.413,0.447,-0.053)\n",
            "joint_id:6,(x,y,z)=(0.044,0.372,0.000),unity座標系(x,y,z)=(0.372,0.000,-0.044)\n",
            "joint_id:7,(x,y,z)=(0.006,0.009,0.889),unity座標系(x,y,z)=(0.009,0.889,-0.006)\n",
            "joint_id:8,(x,y,z)=(0.025,0.061,1.133),unity座標系(x,y,z)=(0.061,1.133,-0.025)\n",
            "joint_id:9,(x,y,z)=(0.021,0.120,1.241),unity座標系(x,y,z)=(0.120,1.241,-0.021)\n",
            "joint_id:10,(x,y,z)=(0.013,0.063,1.342),unity座標系(x,y,z)=(0.063,1.342,-0.013)\n",
            "joint_id:11,(x,y,z)=(-0.136,0.091,1.080),unity座標系(x,y,z)=(0.091,1.080,0.136)\n",
            "joint_id:12,(x,y,z)=(-0.349,0.153,0.878),unity座標系(x,y,z)=(0.153,0.878,0.349)\n",
            "joint_id:13,(x,y,z)=(-0.095,0.247,0.842),unity座標系(x,y,z)=(0.247,0.842,0.095)\n",
            "joint_id:14,(x,y,z)=(0.170,-0.009,1.063),unity座標系(x,y,z)=(-0.009,1.063,-0.170)\n",
            "joint_id:15,(x,y,z)=(0.339,-0.076,0.816),unity座標系(x,y,z)=(-0.076,0.816,-0.339)\n",
            "joint_id:16,(x,y,z)=(0.241,0.148,0.750),unity座標系(x,y,z)=(0.148,0.750,-0.241)\n",
            " 30% 9/30 [00:06<00:14,  1.47it/s]\n",
            "joint_id:0,(x,y,z)=(0.000,0.000,0.628),unity座標系(x,y,z)=(0.000,0.628,-0.000)\n",
            "joint_id:1,(x,y,z)=(0.128,-0.051,0.623),unity座標系(x,y,z)=(-0.051,0.623,-0.128)\n",
            "joint_id:2,(x,y,z)=(0.230,0.312,0.428),unity座標系(x,y,z)=(0.312,0.428,-0.230)\n",
            "joint_id:3,(x,y,z)=(0.220,0.210,0.002),unity座標系(x,y,z)=(0.210,0.002,-0.220)\n",
            "joint_id:4,(x,y,z)=(-0.127,0.051,0.633),unity座標系(x,y,z)=(0.051,0.633,0.127)\n",
            "joint_id:5,(x,y,z)=(0.050,0.414,0.445),unity座標系(x,y,z)=(0.414,0.445,-0.050)\n",
            "joint_id:6,(x,y,z)=(0.041,0.368,0.000),unity座標系(x,y,z)=(0.368,0.000,-0.041)\n",
            "joint_id:7,(x,y,z)=(0.006,0.007,0.887),unity座標系(x,y,z)=(0.007,0.887,-0.006)\n",
            "joint_id:8,(x,y,z)=(0.024,0.057,1.131),unity座標系(x,y,z)=(0.057,1.131,-0.024)\n",
            "joint_id:9,(x,y,z)=(0.019,0.116,1.240),unity座標系(x,y,z)=(0.116,1.240,-0.019)\n",
            "joint_id:10,(x,y,z)=(0.010,0.060,1.342),unity座標系(x,y,z)=(0.060,1.342,-0.010)\n",
            "joint_id:11,(x,y,z)=(-0.138,0.085,1.080),unity座標系(x,y,z)=(0.085,1.080,0.138)\n",
            "joint_id:12,(x,y,z)=(-0.349,0.154,0.885),unity座標系(x,y,z)=(0.154,0.885,0.349)\n",
            "joint_id:13,(x,y,z)=(-0.094,0.248,0.851),unity座標系(x,y,z)=(0.248,0.851,0.094)\n",
            "joint_id:14,(x,y,z)=(0.170,-0.011,1.062),unity座標系(x,y,z)=(-0.011,1.062,-0.170)\n",
            "joint_id:15,(x,y,z)=(0.344,-0.070,0.820),unity座標系(x,y,z)=(-0.070,0.820,-0.344)\n",
            "joint_id:16,(x,y,z)=(0.244,0.153,0.755),unity座標系(x,y,z)=(0.153,0.755,-0.244)\n",
            " 33% 10/30 [00:07<00:12,  1.56it/s]\n",
            "joint_id:0,(x,y,z)=(0.000,0.000,0.626),unity座標系(x,y,z)=(0.000,0.626,-0.000)\n",
            "joint_id:1,(x,y,z)=(0.128,-0.051,0.621),unity座標系(x,y,z)=(-0.051,0.621,-0.128)\n",
            "joint_id:2,(x,y,z)=(0.230,0.314,0.427),unity座標系(x,y,z)=(0.314,0.427,-0.230)\n",
            "joint_id:3,(x,y,z)=(0.222,0.211,0.002),unity座標系(x,y,z)=(0.211,0.002,-0.222)\n",
            "joint_id:4,(x,y,z)=(-0.127,0.051,0.631),unity座標系(x,y,z)=(0.051,0.631,0.127)\n",
            "joint_id:5,(x,y,z)=(0.047,0.416,0.444),unity座標系(x,y,z)=(0.416,0.444,-0.047)\n",
            "joint_id:6,(x,y,z)=(0.038,0.365,0.000),unity座標系(x,y,z)=(0.365,0.000,-0.038)\n",
            "joint_id:7,(x,y,z)=(0.006,0.004,0.885),unity座標系(x,y,z)=(0.004,0.885,-0.006)\n",
            "joint_id:8,(x,y,z)=(0.023,0.052,1.130),unity座標系(x,y,z)=(0.052,1.130,-0.023)\n",
            "joint_id:9,(x,y,z)=(0.018,0.111,1.238),unity座標系(x,y,z)=(0.111,1.238,-0.018)\n",
            "joint_id:10,(x,y,z)=(0.009,0.056,1.341),unity座標系(x,y,z)=(0.056,1.341,-0.009)\n",
            "joint_id:11,(x,y,z)=(-0.138,0.081,1.079),unity座標系(x,y,z)=(0.081,1.079,0.138)\n",
            "joint_id:12,(x,y,z)=(-0.347,0.155,0.892),unity座標系(x,y,z)=(0.155,0.892,0.347)\n",
            "joint_id:13,(x,y,z)=(-0.093,0.250,0.861),unity座標系(x,y,z)=(0.250,0.861,0.093)\n",
            "joint_id:14,(x,y,z)=(0.170,-0.015,1.062),unity座標系(x,y,z)=(-0.015,1.062,-0.170)\n",
            "joint_id:15,(x,y,z)=(0.347,-0.068,0.826),unity座標系(x,y,z)=(-0.068,0.826,-0.347)\n",
            "joint_id:16,(x,y,z)=(0.248,0.155,0.763),unity座標系(x,y,z)=(0.155,0.763,-0.248)\n",
            " 37% 11/30 [00:07<00:11,  1.62it/s]\n",
            "joint_id:0,(x,y,z)=(0.000,0.000,0.623),unity座標系(x,y,z)=(0.000,0.623,-0.000)\n",
            "joint_id:1,(x,y,z)=(0.128,-0.051,0.618),unity座標系(x,y,z)=(-0.051,0.618,-0.128)\n",
            "joint_id:2,(x,y,z)=(0.230,0.315,0.425),unity座標系(x,y,z)=(0.315,0.425,-0.230)\n",
            "joint_id:3,(x,y,z)=(0.221,0.210,0.001),unity座標系(x,y,z)=(0.210,0.001,-0.221)\n",
            "joint_id:4,(x,y,z)=(-0.127,0.051,0.628),unity座標系(x,y,z)=(0.051,0.628,0.127)\n",
            "joint_id:5,(x,y,z)=(0.045,0.417,0.442),unity座標系(x,y,z)=(0.417,0.442,-0.045)\n",
            "joint_id:6,(x,y,z)=(0.035,0.360,0.000),unity座標系(x,y,z)=(0.360,0.000,-0.035)\n",
            "joint_id:7,(x,y,z)=(0.007,0.003,0.882),unity座標系(x,y,z)=(0.003,0.882,-0.007)\n",
            "joint_id:8,(x,y,z)=(0.022,0.050,1.127),unity座標系(x,y,z)=(0.050,1.127,-0.022)\n",
            "joint_id:9,(x,y,z)=(0.018,0.109,1.235),unity座標系(x,y,z)=(0.109,1.235,-0.018)\n",
            "joint_id:10,(x,y,z)=(0.008,0.054,1.339),unity座標系(x,y,z)=(0.054,1.339,-0.008)\n",
            "joint_id:11,(x,y,z)=(-0.139,0.078,1.077),unity座標系(x,y,z)=(0.078,1.077,0.139)\n",
            "joint_id:12,(x,y,z)=(-0.348,0.154,0.893),unity座標系(x,y,z)=(0.154,0.893,0.348)\n",
            "joint_id:13,(x,y,z)=(-0.095,0.250,0.863),unity座標系(x,y,z)=(0.250,0.863,0.095)\n",
            "joint_id:14,(x,y,z)=(0.170,-0.017,1.061),unity座標系(x,y,z)=(-0.017,1.061,-0.170)\n",
            "joint_id:15,(x,y,z)=(0.351,-0.064,0.832),unity座標系(x,y,z)=(-0.064,0.832,-0.351)\n",
            "joint_id:16,(x,y,z)=(0.251,0.160,0.772),unity座標系(x,y,z)=(0.160,0.772,-0.251)\n",
            " 40% 12/30 [00:08<00:10,  1.67it/s]\n",
            "joint_id:0,(x,y,z)=(0.000,0.000,0.622),unity座標系(x,y,z)=(0.000,0.622,-0.000)\n",
            "joint_id:1,(x,y,z)=(0.128,-0.051,0.617),unity座標系(x,y,z)=(-0.051,0.617,-0.128)\n",
            "joint_id:2,(x,y,z)=(0.231,0.316,0.426),unity座標系(x,y,z)=(0.316,0.426,-0.231)\n",
            "joint_id:3,(x,y,z)=(0.221,0.210,0.001),unity座標系(x,y,z)=(0.210,0.001,-0.221)\n",
            "joint_id:4,(x,y,z)=(-0.127,0.051,0.627),unity座標系(x,y,z)=(0.051,0.627,0.127)\n",
            "joint_id:5,(x,y,z)=(0.043,0.418,0.442),unity座標系(x,y,z)=(0.418,0.442,-0.043)\n",
            "joint_id:6,(x,y,z)=(0.033,0.354,0.000),unity座標系(x,y,z)=(0.354,0.000,-0.033)\n",
            "joint_id:7,(x,y,z)=(0.007,0.003,0.881),unity座標系(x,y,z)=(0.003,0.881,-0.007)\n",
            "joint_id:8,(x,y,z)=(0.022,0.048,1.126),unity座標系(x,y,z)=(0.048,1.126,-0.022)\n",
            "joint_id:9,(x,y,z)=(0.018,0.107,1.235),unity座標系(x,y,z)=(0.107,1.235,-0.018)\n",
            "joint_id:10,(x,y,z)=(0.008,0.051,1.338),unity座標系(x,y,z)=(0.051,1.338,-0.008)\n",
            "joint_id:11,(x,y,z)=(-0.139,0.077,1.077),unity座標系(x,y,z)=(0.077,1.077,0.139)\n",
            "joint_id:12,(x,y,z)=(-0.346,0.157,0.896),unity座標系(x,y,z)=(0.157,0.896,0.346)\n",
            "joint_id:13,(x,y,z)=(-0.093,0.255,0.866),unity座標系(x,y,z)=(0.255,0.866,0.093)\n",
            "joint_id:14,(x,y,z)=(0.171,-0.019,1.061),unity座標系(x,y,z)=(-0.019,1.061,-0.171)\n",
            "joint_id:15,(x,y,z)=(0.356,-0.060,0.840),unity座標系(x,y,z)=(-0.060,0.840,-0.356)\n",
            "joint_id:16,(x,y,z)=(0.254,0.164,0.785),unity座標系(x,y,z)=(0.164,0.785,-0.254)\n",
            " 43% 13/30 [00:08<00:09,  1.71it/s]\n",
            "joint_id:0,(x,y,z)=(0.000,0.000,0.620),unity座標系(x,y,z)=(0.000,0.620,-0.000)\n",
            "joint_id:1,(x,y,z)=(0.127,-0.052,0.615),unity座標系(x,y,z)=(-0.052,0.615,-0.127)\n",
            "joint_id:2,(x,y,z)=(0.234,0.317,0.427),unity座標系(x,y,z)=(0.317,0.427,-0.234)\n",
            "joint_id:3,(x,y,z)=(0.220,0.208,0.002),unity座標系(x,y,z)=(0.208,0.002,-0.220)\n",
            "joint_id:4,(x,y,z)=(-0.126,0.052,0.625),unity座標系(x,y,z)=(0.052,0.625,0.126)\n",
            "joint_id:5,(x,y,z)=(0.041,0.420,0.441),unity座標系(x,y,z)=(0.420,0.441,-0.041)\n",
            "joint_id:6,(x,y,z)=(0.032,0.350,0.000),unity座標系(x,y,z)=(0.350,0.000,-0.032)\n",
            "joint_id:7,(x,y,z)=(0.008,0.001,0.879),unity座標系(x,y,z)=(0.001,0.879,-0.008)\n",
            "joint_id:8,(x,y,z)=(0.021,0.046,1.124),unity座標系(x,y,z)=(0.046,1.124,-0.021)\n",
            "joint_id:9,(x,y,z)=(0.019,0.105,1.233),unity座標系(x,y,z)=(0.105,1.233,-0.019)\n",
            "joint_id:10,(x,y,z)=(0.009,0.048,1.337),unity座標系(x,y,z)=(0.048,1.337,-0.009)\n",
            "joint_id:11,(x,y,z)=(-0.139,0.076,1.076),unity座標系(x,y,z)=(0.076,1.076,0.139)\n",
            "joint_id:12,(x,y,z)=(-0.346,0.157,0.896),unity座標系(x,y,z)=(0.157,0.896,0.346)\n",
            "joint_id:13,(x,y,z)=(-0.094,0.254,0.866),unity座標系(x,y,z)=(0.254,0.866,0.094)\n",
            "joint_id:14,(x,y,z)=(0.170,-0.021,1.061),unity座標系(x,y,z)=(-0.021,1.061,-0.170)\n",
            "joint_id:15,(x,y,z)=(0.361,-0.058,0.851),unity座標系(x,y,z)=(-0.058,0.851,-0.361)\n",
            "joint_id:16,(x,y,z)=(0.258,0.166,0.800),unity座標系(x,y,z)=(0.166,0.800,-0.258)\n",
            " 47% 14/30 [00:09<00:09,  1.61it/s]\n",
            "joint_id:0,(x,y,z)=(0.000,0.000,0.618),unity座標系(x,y,z)=(0.000,0.618,-0.000)\n",
            "joint_id:1,(x,y,z)=(0.126,-0.053,0.614),unity座標系(x,y,z)=(-0.053,0.614,-0.126)\n",
            "joint_id:2,(x,y,z)=(0.234,0.316,0.427),unity座標系(x,y,z)=(0.316,0.427,-0.234)\n",
            "joint_id:3,(x,y,z)=(0.219,0.208,0.003),unity座標系(x,y,z)=(0.208,0.003,-0.219)\n",
            "joint_id:4,(x,y,z)=(-0.126,0.052,0.623),unity座標系(x,y,z)=(0.052,0.623,0.126)\n",
            "joint_id:5,(x,y,z)=(0.040,0.420,0.440),unity座標系(x,y,z)=(0.420,0.440,-0.040)\n",
            "joint_id:6,(x,y,z)=(0.030,0.347,0.000),unity座標系(x,y,z)=(0.347,0.000,-0.030)\n",
            "joint_id:7,(x,y,z)=(0.007,-0.000,0.878),unity座標系(x,y,z)=(-0.000,0.878,-0.007)\n",
            "joint_id:8,(x,y,z)=(0.019,0.041,1.124),unity座標系(x,y,z)=(0.041,1.124,-0.019)\n",
            "joint_id:9,(x,y,z)=(0.018,0.100,1.233),unity座標系(x,y,z)=(0.100,1.233,-0.018)\n",
            "joint_id:10,(x,y,z)=(0.009,0.044,1.337),unity座標系(x,y,z)=(0.044,1.337,-0.009)\n",
            "joint_id:11,(x,y,z)=(-0.140,0.073,1.075),unity座標系(x,y,z)=(0.073,1.075,0.140)\n",
            "joint_id:12,(x,y,z)=(-0.347,0.156,0.896),unity座標系(x,y,z)=(0.156,0.896,0.347)\n",
            "joint_id:13,(x,y,z)=(-0.095,0.253,0.865),unity座標系(x,y,z)=(0.253,0.865,0.095)\n",
            "joint_id:14,(x,y,z)=(0.168,-0.026,1.062),unity座標系(x,y,z)=(-0.026,1.062,-0.168)\n",
            "joint_id:15,(x,y,z)=(0.365,-0.058,0.861),unity座標系(x,y,z)=(-0.058,0.861,-0.365)\n",
            "joint_id:16,(x,y,z)=(0.258,0.168,0.816),unity座標系(x,y,z)=(0.168,0.816,-0.258)\n",
            " 50% 15/30 [00:10<00:09,  1.66it/s]\n",
            "joint_id:0,(x,y,z)=(0.000,0.000,0.618),unity座標系(x,y,z)=(0.000,0.618,-0.000)\n",
            "joint_id:1,(x,y,z)=(0.126,-0.053,0.614),unity座標系(x,y,z)=(-0.053,0.614,-0.126)\n",
            "joint_id:2,(x,y,z)=(0.237,0.316,0.429),unity座標系(x,y,z)=(0.316,0.429,-0.237)\n",
            "joint_id:3,(x,y,z)=(0.217,0.207,0.006),unity座標系(x,y,z)=(0.207,0.006,-0.217)\n",
            "joint_id:4,(x,y,z)=(-0.125,0.053,0.623),unity座標系(x,y,z)=(0.053,0.623,0.125)\n",
            "joint_id:5,(x,y,z)=(0.039,0.421,0.439),unity座標系(x,y,z)=(0.421,0.439,-0.039)\n",
            "joint_id:6,(x,y,z)=(0.029,0.345,0.000),unity座標系(x,y,z)=(0.345,0.000,-0.029)\n",
            "joint_id:7,(x,y,z)=(0.007,-0.002,0.878),unity座標系(x,y,z)=(-0.002,0.878,-0.007)\n",
            "joint_id:8,(x,y,z)=(0.017,0.038,1.124),unity座標系(x,y,z)=(0.038,1.124,-0.017)\n",
            "joint_id:9,(x,y,z)=(0.019,0.096,1.233),unity座標系(x,y,z)=(0.096,1.233,-0.019)\n",
            "joint_id:10,(x,y,z)=(0.011,0.039,1.337),unity座標系(x,y,z)=(0.039,1.337,-0.011)\n",
            "joint_id:11,(x,y,z)=(-0.142,0.071,1.076),unity座標系(x,y,z)=(0.071,1.076,0.142)\n",
            "joint_id:12,(x,y,z)=(-0.348,0.156,0.897),unity座標系(x,y,z)=(0.156,0.897,0.348)\n",
            "joint_id:13,(x,y,z)=(-0.097,0.252,0.864),unity座標系(x,y,z)=(0.252,0.864,0.097)\n",
            "joint_id:14,(x,y,z)=(0.167,-0.030,1.064),unity座標系(x,y,z)=(-0.030,1.064,-0.167)\n",
            "joint_id:15,(x,y,z)=(0.371,-0.055,0.876),unity座標系(x,y,z)=(-0.055,0.876,-0.371)\n",
            "joint_id:16,(x,y,z)=(0.260,0.171,0.838),unity座標系(x,y,z)=(0.171,0.838,-0.260)\n",
            " 53% 16/30 [00:10<00:08,  1.69it/s]\n",
            "joint_id:0,(x,y,z)=(0.000,0.000,0.619),unity座標系(x,y,z)=(0.000,0.619,-0.000)\n",
            "joint_id:1,(x,y,z)=(0.125,-0.054,0.614),unity座標系(x,y,z)=(-0.054,0.614,-0.125)\n",
            "joint_id:2,(x,y,z)=(0.240,0.315,0.433),unity座標系(x,y,z)=(0.315,0.433,-0.240)\n",
            "joint_id:3,(x,y,z)=(0.215,0.206,0.010),unity座標系(x,y,z)=(0.206,0.010,-0.215)\n",
            "joint_id:4,(x,y,z)=(-0.124,0.054,0.623),unity座標系(x,y,z)=(0.054,0.623,0.124)\n",
            "joint_id:5,(x,y,z)=(0.039,0.423,0.439),unity座標系(x,y,z)=(0.423,0.439,-0.039)\n",
            "joint_id:6,(x,y,z)=(0.029,0.345,0.000),unity座標系(x,y,z)=(0.345,0.000,-0.029)\n",
            "joint_id:7,(x,y,z)=(0.006,-0.002,0.878),unity座標系(x,y,z)=(-0.002,0.878,-0.006)\n",
            "joint_id:8,(x,y,z)=(0.015,0.036,1.124),unity座標系(x,y,z)=(0.036,1.124,-0.015)\n",
            "joint_id:9,(x,y,z)=(0.019,0.094,1.233),unity座標系(x,y,z)=(0.094,1.233,-0.019)\n",
            "joint_id:10,(x,y,z)=(0.012,0.036,1.338),unity座標系(x,y,z)=(0.036,1.338,-0.012)\n",
            "joint_id:11,(x,y,z)=(-0.143,0.071,1.076),unity座標系(x,y,z)=(0.071,1.076,0.143)\n",
            "joint_id:12,(x,y,z)=(-0.350,0.156,0.895),unity座標系(x,y,z)=(0.156,0.895,0.350)\n",
            "joint_id:13,(x,y,z)=(-0.099,0.250,0.861),unity座標系(x,y,z)=(0.250,0.861,0.099)\n",
            "joint_id:14,(x,y,z)=(0.165,-0.034,1.066),unity座標系(x,y,z)=(-0.034,1.066,-0.165)\n",
            "joint_id:15,(x,y,z)=(0.377,-0.053,0.891),unity座標系(x,y,z)=(-0.053,0.891,-0.377)\n",
            "joint_id:16,(x,y,z)=(0.262,0.175,0.863),unity座標系(x,y,z)=(0.175,0.863,-0.262)\n",
            " 57% 17/30 [00:11<00:07,  1.73it/s]\n",
            "joint_id:0,(x,y,z)=(0.000,0.000,0.620),unity座標系(x,y,z)=(0.000,0.620,-0.000)\n",
            "joint_id:1,(x,y,z)=(0.125,-0.056,0.616),unity座標系(x,y,z)=(-0.056,0.616,-0.125)\n",
            "joint_id:2,(x,y,z)=(0.244,0.315,0.437),unity座標系(x,y,z)=(0.315,0.437,-0.244)\n",
            "joint_id:3,(x,y,z)=(0.212,0.206,0.016),unity座標系(x,y,z)=(0.206,0.016,-0.212)\n",
            "joint_id:4,(x,y,z)=(-0.123,0.055,0.623),unity座標系(x,y,z)=(0.055,0.623,0.123)\n",
            "joint_id:5,(x,y,z)=(0.039,0.423,0.439),unity座標系(x,y,z)=(0.423,0.439,-0.039)\n",
            "joint_id:6,(x,y,z)=(0.027,0.342,0.000),unity座標系(x,y,z)=(0.342,0.000,-0.027)\n",
            "joint_id:7,(x,y,z)=(0.005,-0.003,0.880),unity座標系(x,y,z)=(-0.003,0.880,-0.005)\n",
            "joint_id:8,(x,y,z)=(0.013,0.035,1.126),unity座標系(x,y,z)=(0.035,1.126,-0.013)\n",
            "joint_id:9,(x,y,z)=(0.020,0.091,1.235),unity座標系(x,y,z)=(0.091,1.235,-0.020)\n",
            "joint_id:10,(x,y,z)=(0.014,0.033,1.339),unity座標系(x,y,z)=(0.033,1.339,-0.014)\n",
            "joint_id:11,(x,y,z)=(-0.144,0.070,1.077),unity座標系(x,y,z)=(0.070,1.077,0.144)\n",
            "joint_id:12,(x,y,z)=(-0.351,0.154,0.894),unity座標系(x,y,z)=(0.154,0.894,0.351)\n",
            "joint_id:13,(x,y,z)=(-0.101,0.247,0.858),unity座標系(x,y,z)=(0.247,0.858,0.101)\n",
            "joint_id:14,(x,y,z)=(0.163,-0.037,1.069),unity座標系(x,y,z)=(-0.037,1.069,-0.163)\n",
            "joint_id:15,(x,y,z)=(0.384,-0.051,0.906),unity座標系(x,y,z)=(-0.051,0.906,-0.384)\n",
            "joint_id:16,(x,y,z)=(0.262,0.178,0.887),unity座標系(x,y,z)=(0.178,0.887,-0.262)\n",
            " 60% 18/30 [00:11<00:06,  1.74it/s]\n",
            "joint_id:0,(x,y,z)=(0.000,0.000,0.622),unity座標系(x,y,z)=(0.000,0.622,-0.000)\n",
            "joint_id:1,(x,y,z)=(0.124,-0.057,0.618),unity座標系(x,y,z)=(-0.057,0.618,-0.124)\n",
            "joint_id:2,(x,y,z)=(0.248,0.314,0.441),unity座標系(x,y,z)=(0.314,0.441,-0.248)\n",
            "joint_id:3,(x,y,z)=(0.208,0.205,0.023),unity座標系(x,y,z)=(0.205,0.023,-0.208)\n",
            "joint_id:4,(x,y,z)=(-0.123,0.056,0.625),unity座標系(x,y,z)=(0.056,0.625,0.123)\n",
            "joint_id:5,(x,y,z)=(0.039,0.424,0.441),unity座標系(x,y,z)=(0.424,0.441,-0.039)\n",
            "joint_id:6,(x,y,z)=(0.027,0.340,0.000),unity座標系(x,y,z)=(0.340,0.000,-0.027)\n",
            "joint_id:7,(x,y,z)=(0.004,-0.003,0.882),unity座標系(x,y,z)=(-0.003,0.882,-0.004)\n",
            "joint_id:8,(x,y,z)=(0.011,0.034,1.128),unity座標系(x,y,z)=(0.034,1.128,-0.011)\n",
            "joint_id:9,(x,y,z)=(0.022,0.090,1.237),unity座標系(x,y,z)=(0.090,1.237,-0.022)\n",
            "joint_id:10,(x,y,z)=(0.018,0.030,1.342),unity座標系(x,y,z)=(0.030,1.342,-0.018)\n",
            "joint_id:11,(x,y,z)=(-0.145,0.071,1.079),unity座標系(x,y,z)=(0.071,1.079,0.145)\n",
            "joint_id:12,(x,y,z)=(-0.351,0.155,0.894),unity座標系(x,y,z)=(0.155,0.894,0.351)\n",
            "joint_id:13,(x,y,z)=(-0.103,0.245,0.857),unity座標系(x,y,z)=(0.245,0.857,0.103)\n",
            "joint_id:14,(x,y,z)=(0.161,-0.041,1.073),unity座標系(x,y,z)=(-0.041,1.073,-0.161)\n",
            "joint_id:15,(x,y,z)=(0.391,-0.049,0.924),unity座標系(x,y,z)=(-0.049,0.924,-0.391)\n",
            "joint_id:16,(x,y,z)=(0.262,0.181,0.916),unity座標系(x,y,z)=(0.181,0.916,-0.262)\n",
            " 63% 19/30 [00:12<00:06,  1.77it/s]\n",
            "joint_id:0,(x,y,z)=(0.000,0.000,0.625),unity座標系(x,y,z)=(0.000,0.625,-0.000)\n",
            "joint_id:1,(x,y,z)=(0.123,-0.058,0.622),unity座標系(x,y,z)=(-0.058,0.622,-0.123)\n",
            "joint_id:2,(x,y,z)=(0.252,0.309,0.444),unity座標系(x,y,z)=(0.309,0.444,-0.252)\n",
            "joint_id:3,(x,y,z)=(0.204,0.201,0.032),unity座標系(x,y,z)=(0.201,0.032,-0.204)\n",
            "joint_id:4,(x,y,z)=(-0.122,0.058,0.628),unity座標系(x,y,z)=(0.058,0.628,0.122)\n",
            "joint_id:5,(x,y,z)=(0.040,0.423,0.441),unity座標系(x,y,z)=(0.423,0.441,-0.040)\n",
            "joint_id:6,(x,y,z)=(0.026,0.337,0.000),unity座標系(x,y,z)=(0.337,0.000,-0.026)\n",
            "joint_id:7,(x,y,z)=(0.003,-0.004,0.885),unity座標系(x,y,z)=(-0.004,0.885,-0.003)\n",
            "joint_id:8,(x,y,z)=(0.009,0.031,1.131),unity座標系(x,y,z)=(0.031,1.131,-0.009)\n",
            "joint_id:9,(x,y,z)=(0.022,0.087,1.241),unity座標系(x,y,z)=(0.087,1.241,-0.022)\n",
            "joint_id:10,(x,y,z)=(0.020,0.027,1.347),unity座標系(x,y,z)=(0.027,1.347,-0.020)\n",
            "joint_id:11,(x,y,z)=(-0.146,0.070,1.083),unity座標系(x,y,z)=(0.070,1.083,0.146)\n",
            "joint_id:12,(x,y,z)=(-0.353,0.156,0.897),unity座標系(x,y,z)=(0.156,0.897,0.353)\n",
            "joint_id:13,(x,y,z)=(-0.104,0.243,0.859),unity座標系(x,y,z)=(0.243,0.859,0.104)\n",
            "joint_id:14,(x,y,z)=(0.159,-0.045,1.079),unity座標系(x,y,z)=(-0.045,1.079,-0.159)\n",
            "joint_id:15,(x,y,z)=(0.395,-0.049,0.942),unity座標系(x,y,z)=(-0.049,0.942,-0.395)\n",
            "joint_id:16,(x,y,z)=(0.259,0.181,0.942),unity座標系(x,y,z)=(0.181,0.942,-0.259)\n",
            " 67% 20/30 [00:12<00:05,  1.79it/s]/content/3d-human-pose-estimation/demo/vis.py:258: RuntimeWarning: More than 20 figures have been opened. Figures created through the pyplot interface (`matplotlib.pyplot.figure`) are retained until explicitly closed and may consume too much memory. (To control this warning, see the rcParam `figure.max_open_warning`). Consider using `matplotlib.pyplot.close()`.\n",
            "  fig = plt.figure( figsize=(9.6, 5.4))\n",
            "\n",
            "joint_id:0,(x,y,z)=(0.000,0.000,0.629),unity座標系(x,y,z)=(0.000,0.629,-0.000)\n",
            "joint_id:1,(x,y,z)=(0.123,-0.060,0.626),unity座標系(x,y,z)=(-0.060,0.626,-0.123)\n",
            "joint_id:2,(x,y,z)=(0.257,0.306,0.450),unity座標系(x,y,z)=(0.306,0.450,-0.257)\n",
            "joint_id:3,(x,y,z)=(0.198,0.199,0.043),unity座標系(x,y,z)=(0.199,0.043,-0.198)\n",
            "joint_id:4,(x,y,z)=(-0.122,0.060,0.631),unity座標系(x,y,z)=(0.060,0.631,0.122)\n",
            "joint_id:5,(x,y,z)=(0.040,0.423,0.442),unity座標系(x,y,z)=(0.423,0.442,-0.040)\n",
            "joint_id:6,(x,y,z)=(0.025,0.336,0.000),unity座標系(x,y,z)=(0.336,0.000,-0.025)\n",
            "joint_id:7,(x,y,z)=(0.002,-0.004,0.889),unity座標系(x,y,z)=(-0.004,0.889,-0.002)\n",
            "joint_id:8,(x,y,z)=(0.006,0.029,1.136),unity座標系(x,y,z)=(0.029,1.136,-0.006)\n",
            "joint_id:9,(x,y,z)=(0.023,0.084,1.246),unity座標系(x,y,z)=(0.084,1.246,-0.023)\n",
            "joint_id:10,(x,y,z)=(0.023,0.023,1.352),unity座標系(x,y,z)=(0.023,1.352,-0.023)\n",
            "joint_id:11,(x,y,z)=(-0.147,0.071,1.087),unity座標系(x,y,z)=(0.071,1.087,0.147)\n",
            "joint_id:12,(x,y,z)=(-0.354,0.159,0.902),unity座標系(x,y,z)=(0.159,0.902,0.354)\n",
            "joint_id:13,(x,y,z)=(-0.107,0.243,0.864),unity座標系(x,y,z)=(0.243,0.864,0.107)\n",
            "joint_id:14,(x,y,z)=(0.155,-0.050,1.085),unity座標系(x,y,z)=(-0.050,1.085,-0.155)\n",
            "joint_id:15,(x,y,z)=(0.400,-0.050,0.962),unity座標系(x,y,z)=(-0.050,0.962,-0.400)\n",
            "joint_id:16,(x,y,z)=(0.258,0.179,0.974),unity座標系(x,y,z)=(0.179,0.974,-0.258)\n",
            " 70% 21/30 [00:13<00:04,  1.81it/s]\n",
            "joint_id:0,(x,y,z)=(0.000,0.000,0.631),unity座標系(x,y,z)=(0.000,0.631,-0.000)\n",
            "joint_id:1,(x,y,z)=(0.121,-0.062,0.630),unity座標系(x,y,z)=(-0.062,0.630,-0.121)\n",
            "joint_id:2,(x,y,z)=(0.264,0.302,0.457),unity座標系(x,y,z)=(0.302,0.457,-0.264)\n",
            "joint_id:3,(x,y,z)=(0.189,0.197,0.057),unity座標系(x,y,z)=(0.197,0.057,-0.189)\n",
            "joint_id:4,(x,y,z)=(-0.120,0.062,0.633),unity座標系(x,y,z)=(0.062,0.633,0.120)\n",
            "joint_id:5,(x,y,z)=(0.042,0.423,0.441),unity座標系(x,y,z)=(0.423,0.441,-0.042)\n",
            "joint_id:6,(x,y,z)=(0.023,0.334,0.000),unity座標系(x,y,z)=(0.334,0.000,-0.023)\n",
            "joint_id:7,(x,y,z)=(0.000,-0.004,0.892),unity座標系(x,y,z)=(-0.004,0.892,-0.000)\n",
            "joint_id:8,(x,y,z)=(0.004,0.028,1.138),unity座標系(x,y,z)=(0.028,1.138,-0.004)\n",
            "joint_id:9,(x,y,z)=(0.023,0.083,1.248),unity座標系(x,y,z)=(0.083,1.248,-0.023)\n",
            "joint_id:10,(x,y,z)=(0.025,0.021,1.354),unity座標系(x,y,z)=(0.021,1.354,-0.025)\n",
            "joint_id:11,(x,y,z)=(-0.149,0.073,1.090),unity座標系(x,y,z)=(0.073,1.090,0.149)\n",
            "joint_id:12,(x,y,z)=(-0.357,0.164,0.907),unity座標系(x,y,z)=(0.164,0.907,0.357)\n",
            "joint_id:13,(x,y,z)=(-0.107,0.244,0.871),unity座標系(x,y,z)=(0.244,0.871,0.107)\n",
            "joint_id:14,(x,y,z)=(0.152,-0.054,1.090),unity座標系(x,y,z)=(-0.054,1.090,-0.152)\n",
            "joint_id:15,(x,y,z)=(0.403,-0.053,0.979),unity座標系(x,y,z)=(-0.053,0.979,-0.403)\n",
            "joint_id:16,(x,y,z)=(0.255,0.176,1.001),unity座標系(x,y,z)=(0.176,1.001,-0.255)\n",
            " 73% 22/30 [00:14<00:04,  1.81it/s]\n",
            "joint_id:0,(x,y,z)=(0.000,0.000,0.634),unity座標系(x,y,z)=(0.000,0.634,-0.000)\n",
            "joint_id:1,(x,y,z)=(0.120,-0.065,0.632),unity座標系(x,y,z)=(-0.065,0.632,-0.120)\n",
            "joint_id:2,(x,y,z)=(0.271,0.298,0.462),unity座標系(x,y,z)=(0.298,0.462,-0.271)\n",
            "joint_id:3,(x,y,z)=(0.180,0.194,0.071),unity座標系(x,y,z)=(0.194,0.071,-0.180)\n",
            "joint_id:4,(x,y,z)=(-0.120,0.065,0.635),unity座標系(x,y,z)=(0.065,0.635,0.120)\n",
            "joint_id:5,(x,y,z)=(0.045,0.424,0.441),unity座標系(x,y,z)=(0.424,0.441,-0.045)\n",
            "joint_id:6,(x,y,z)=(0.023,0.334,0.000),unity座標系(x,y,z)=(0.334,0.000,-0.023)\n",
            "joint_id:7,(x,y,z)=(-0.001,-0.003,0.894),unity座標系(x,y,z)=(-0.003,0.894,0.001)\n",
            "joint_id:8,(x,y,z)=(0.002,0.028,1.140),unity座標系(x,y,z)=(0.028,1.140,-0.002)\n",
            "joint_id:9,(x,y,z)=(0.024,0.082,1.250),unity座標系(x,y,z)=(0.082,1.250,-0.024)\n",
            "joint_id:10,(x,y,z)=(0.027,0.019,1.356),unity座標系(x,y,z)=(0.019,1.356,-0.027)\n",
            "joint_id:11,(x,y,z)=(-0.150,0.076,1.092),unity座標系(x,y,z)=(0.076,1.092,0.150)\n",
            "joint_id:12,(x,y,z)=(-0.358,0.170,0.913),unity座標系(x,y,z)=(0.170,0.913,0.358)\n",
            "joint_id:13,(x,y,z)=(-0.107,0.245,0.879),unity座標系(x,y,z)=(0.245,0.879,0.107)\n",
            "joint_id:14,(x,y,z)=(0.149,-0.057,1.094),unity座標系(x,y,z)=(-0.057,1.094,-0.149)\n",
            "joint_id:15,(x,y,z)=(0.406,-0.053,0.993),unity座標系(x,y,z)=(-0.053,0.993,-0.406)\n",
            "joint_id:16,(x,y,z)=(0.254,0.174,1.026),unity座標系(x,y,z)=(0.174,1.026,-0.254)\n",
            " 77% 23/30 [00:14<00:03,  1.82it/s]\n",
            "joint_id:0,(x,y,z)=(0.000,0.000,0.637),unity座標系(x,y,z)=(0.000,0.637,-0.000)\n",
            "joint_id:1,(x,y,z)=(0.119,-0.068,0.636),unity座標系(x,y,z)=(-0.068,0.636,-0.119)\n",
            "joint_id:2,(x,y,z)=(0.279,0.292,0.469),unity座標系(x,y,z)=(0.292,0.469,-0.279)\n",
            "joint_id:3,(x,y,z)=(0.169,0.191,0.090),unity座標系(x,y,z)=(0.191,0.090,-0.169)\n",
            "joint_id:4,(x,y,z)=(-0.118,0.067,0.638),unity座標系(x,y,z)=(0.067,0.638,0.118)\n",
            "joint_id:5,(x,y,z)=(0.047,0.424,0.442),unity座標系(x,y,z)=(0.424,0.442,-0.047)\n",
            "joint_id:6,(x,y,z)=(0.023,0.332,0.000),unity座標系(x,y,z)=(0.332,0.000,-0.023)\n",
            "joint_id:7,(x,y,z)=(-0.002,-0.003,0.897),unity座標系(x,y,z)=(-0.003,0.897,0.002)\n",
            "joint_id:8,(x,y,z)=(0.000,0.028,1.143),unity座標系(x,y,z)=(0.028,1.143,-0.000)\n",
            "joint_id:9,(x,y,z)=(0.025,0.081,1.253),unity座標系(x,y,z)=(0.081,1.253,-0.025)\n",
            "joint_id:10,(x,y,z)=(0.028,0.017,1.358),unity座標系(x,y,z)=(0.017,1.358,-0.028)\n",
            "joint_id:11,(x,y,z)=(-0.151,0.079,1.096),unity座標系(x,y,z)=(0.079,1.096,0.151)\n",
            "joint_id:12,(x,y,z)=(-0.362,0.179,0.923),unity座標系(x,y,z)=(0.179,0.923,0.362)\n",
            "joint_id:13,(x,y,z)=(-0.107,0.247,0.894),unity座標系(x,y,z)=(0.247,0.894,0.107)\n",
            "joint_id:14,(x,y,z)=(0.145,-0.061,1.099),unity座標系(x,y,z)=(-0.061,1.099,-0.145)\n",
            "joint_id:15,(x,y,z)=(0.409,-0.055,1.010),unity座標系(x,y,z)=(-0.055,1.010,-0.409)\n",
            "joint_id:16,(x,y,z)=(0.250,0.170,1.053),unity座標系(x,y,z)=(0.170,1.053,-0.250)\n",
            " 80% 24/30 [00:15<00:03,  1.82it/s]\n",
            "joint_id:0,(x,y,z)=(0.000,0.000,0.641),unity座標系(x,y,z)=(0.000,0.641,-0.000)\n",
            "joint_id:1,(x,y,z)=(0.118,-0.070,0.640),unity座標系(x,y,z)=(-0.070,0.640,-0.118)\n",
            "joint_id:2,(x,y,z)=(0.285,0.286,0.476),unity座標系(x,y,z)=(0.286,0.476,-0.285)\n",
            "joint_id:3,(x,y,z)=(0.156,0.186,0.110),unity座標系(x,y,z)=(0.186,0.110,-0.156)\n",
            "joint_id:4,(x,y,z)=(-0.117,0.070,0.641),unity座標系(x,y,z)=(0.070,0.641,0.117)\n",
            "joint_id:5,(x,y,z)=(0.051,0.423,0.442),unity座標系(x,y,z)=(0.423,0.442,-0.051)\n",
            "joint_id:6,(x,y,z)=(0.025,0.331,0.000),unity座標系(x,y,z)=(0.331,0.000,-0.025)\n",
            "joint_id:7,(x,y,z)=(-0.004,-0.002,0.901),unity座標系(x,y,z)=(-0.002,0.901,0.004)\n",
            "joint_id:8,(x,y,z)=(-0.002,0.028,1.146),unity座標系(x,y,z)=(0.028,1.146,0.002)\n",
            "joint_id:9,(x,y,z)=(0.026,0.080,1.256),unity座標系(x,y,z)=(0.080,1.256,-0.026)\n",
            "joint_id:10,(x,y,z)=(0.030,0.016,1.361),unity座標系(x,y,z)=(0.016,1.361,-0.030)\n",
            "joint_id:11,(x,y,z)=(-0.152,0.082,1.100),unity座標系(x,y,z)=(0.082,1.100,0.152)\n",
            "joint_id:12,(x,y,z)=(-0.365,0.188,0.935),unity座標系(x,y,z)=(0.188,0.935,0.365)\n",
            "joint_id:13,(x,y,z)=(-0.106,0.248,0.913),unity座標系(x,y,z)=(0.248,0.913,0.106)\n",
            "joint_id:14,(x,y,z)=(0.142,-0.064,1.105),unity座標系(x,y,z)=(-0.064,1.105,-0.142)\n",
            "joint_id:15,(x,y,z)=(0.411,-0.057,1.026),unity座標系(x,y,z)=(-0.057,1.026,-0.411)\n",
            "joint_id:16,(x,y,z)=(0.246,0.165,1.079),unity座標系(x,y,z)=(0.165,1.079,-0.246)\n",
            " 83% 25/30 [00:15<00:03,  1.61it/s]\n",
            "joint_id:0,(x,y,z)=(0.000,0.000,0.643),unity座標系(x,y,z)=(0.000,0.643,-0.000)\n",
            "joint_id:1,(x,y,z)=(0.116,-0.073,0.643),unity座標系(x,y,z)=(-0.073,0.643,-0.116)\n",
            "joint_id:2,(x,y,z)=(0.292,0.280,0.484),unity座標系(x,y,z)=(0.280,0.484,-0.292)\n",
            "joint_id:3,(x,y,z)=(0.144,0.183,0.130),unity座標系(x,y,z)=(0.183,0.130,-0.144)\n",
            "joint_id:4,(x,y,z)=(-0.116,0.073,0.643),unity座標系(x,y,z)=(0.073,0.643,0.116)\n",
            "joint_id:5,(x,y,z)=(0.054,0.423,0.442),unity座標系(x,y,z)=(0.423,0.442,-0.054)\n",
            "joint_id:6,(x,y,z)=(0.026,0.330,0.000),unity座標系(x,y,z)=(0.330,0.000,-0.026)\n",
            "joint_id:7,(x,y,z)=(-0.005,-0.002,0.903),unity座標系(x,y,z)=(-0.002,0.903,0.005)\n",
            "joint_id:8,(x,y,z)=(-0.004,0.028,1.148),unity座標系(x,y,z)=(0.028,1.148,0.004)\n",
            "joint_id:9,(x,y,z)=(0.026,0.079,1.258),unity座標系(x,y,z)=(0.079,1.258,-0.026)\n",
            "joint_id:10,(x,y,z)=(0.031,0.014,1.362),unity座標系(x,y,z)=(0.014,1.362,-0.031)\n",
            "joint_id:11,(x,y,z)=(-0.154,0.086,1.103),unity座標系(x,y,z)=(0.086,1.103,0.154)\n",
            "joint_id:12,(x,y,z)=(-0.369,0.197,0.946),unity座標系(x,y,z)=(0.197,0.946,0.369)\n",
            "joint_id:13,(x,y,z)=(-0.105,0.250,0.933),unity座標系(x,y,z)=(0.250,0.933,0.105)\n",
            "joint_id:14,(x,y,z)=(0.138,-0.067,1.110),unity座標系(x,y,z)=(-0.067,1.110,-0.138)\n",
            "joint_id:15,(x,y,z)=(0.411,-0.059,1.039),unity座標系(x,y,z)=(-0.059,1.039,-0.411)\n",
            "joint_id:16,(x,y,z)=(0.241,0.158,1.100),unity座標系(x,y,z)=(0.158,1.100,-0.241)\n",
            " 87% 26/30 [00:16<00:02,  1.34it/s]\n",
            "joint_id:0,(x,y,z)=(0.000,0.000,0.645),unity座標系(x,y,z)=(0.000,0.645,-0.000)\n",
            "joint_id:1,(x,y,z)=(0.115,-0.075,0.645),unity座標系(x,y,z)=(-0.075,0.645,-0.115)\n",
            "joint_id:2,(x,y,z)=(0.298,0.275,0.489),unity座標系(x,y,z)=(0.275,0.489,-0.298)\n",
            "joint_id:3,(x,y,z)=(0.134,0.180,0.148),unity座標系(x,y,z)=(0.180,0.148,-0.134)\n",
            "joint_id:4,(x,y,z)=(-0.115,0.075,0.644),unity座標系(x,y,z)=(0.075,0.644,0.115)\n",
            "joint_id:5,(x,y,z)=(0.057,0.424,0.441),unity座標系(x,y,z)=(0.424,0.441,-0.057)\n",
            "joint_id:6,(x,y,z)=(0.027,0.330,0.000),unity座標系(x,y,z)=(0.330,0.000,-0.027)\n",
            "joint_id:7,(x,y,z)=(-0.006,-0.001,0.904),unity座標系(x,y,z)=(-0.001,0.904,0.006)\n",
            "joint_id:8,(x,y,z)=(-0.006,0.027,1.149),unity座標系(x,y,z)=(0.027,1.149,0.006)\n",
            "joint_id:9,(x,y,z)=(0.026,0.078,1.257),unity座標系(x,y,z)=(0.078,1.257,-0.026)\n",
            "joint_id:10,(x,y,z)=(0.031,0.013,1.362),unity座標系(x,y,z)=(0.013,1.362,-0.031)\n",
            "joint_id:11,(x,y,z)=(-0.155,0.087,1.105),unity座標系(x,y,z)=(0.087,1.105,0.155)\n",
            "joint_id:12,(x,y,z)=(-0.372,0.204,0.956),unity座標系(x,y,z)=(0.204,0.956,0.372)\n",
            "joint_id:13,(x,y,z)=(-0.105,0.251,0.950),unity座標系(x,y,z)=(0.251,0.950,0.105)\n",
            "joint_id:14,(x,y,z)=(0.134,-0.070,1.112),unity座標系(x,y,z)=(-0.070,1.112,-0.134)\n",
            "joint_id:15,(x,y,z)=(0.411,-0.063,1.049),unity座標系(x,y,z)=(-0.063,1.049,-0.411)\n",
            "joint_id:16,(x,y,z)=(0.237,0.151,1.117),unity座標系(x,y,z)=(0.151,1.117,-0.237)\n",
            " 90% 27/30 [00:17<00:02,  1.27it/s]\n",
            "joint_id:0,(x,y,z)=(0.000,0.000,0.645),unity座標系(x,y,z)=(0.000,0.645,-0.000)\n",
            "joint_id:1,(x,y,z)=(0.114,-0.077,0.645),unity座標系(x,y,z)=(-0.077,0.645,-0.114)\n",
            "joint_id:2,(x,y,z)=(0.304,0.268,0.493),unity座標系(x,y,z)=(0.268,0.493,-0.304)\n",
            "joint_id:3,(x,y,z)=(0.124,0.177,0.164),unity座標系(x,y,z)=(0.177,0.164,-0.124)\n",
            "joint_id:4,(x,y,z)=(-0.114,0.077,0.644),unity座標系(x,y,z)=(0.077,0.644,0.114)\n",
            "joint_id:5,(x,y,z)=(0.060,0.424,0.440),unity座標系(x,y,z)=(0.424,0.440,-0.060)\n",
            "joint_id:6,(x,y,z)=(0.029,0.330,0.000),unity座標系(x,y,z)=(0.330,0.000,-0.029)\n",
            "joint_id:7,(x,y,z)=(-0.007,-0.001,0.904),unity座標系(x,y,z)=(-0.001,0.904,0.007)\n",
            "joint_id:8,(x,y,z)=(-0.007,0.026,1.149),unity座標系(x,y,z)=(0.026,1.149,0.007)\n",
            "joint_id:9,(x,y,z)=(0.026,0.077,1.257),unity座標系(x,y,z)=(0.077,1.257,-0.026)\n",
            "joint_id:10,(x,y,z)=(0.032,0.011,1.362),unity座標系(x,y,z)=(0.011,1.362,-0.032)\n",
            "joint_id:11,(x,y,z)=(-0.156,0.090,1.106),unity座標系(x,y,z)=(0.090,1.106,0.156)\n",
            "joint_id:12,(x,y,z)=(-0.374,0.213,0.964),unity座標系(x,y,z)=(0.213,0.964,0.374)\n",
            "joint_id:13,(x,y,z)=(-0.103,0.251,0.966),unity座標系(x,y,z)=(0.251,0.966,0.103)\n",
            "joint_id:14,(x,y,z)=(0.131,-0.073,1.114),unity座標系(x,y,z)=(-0.073,1.114,-0.131)\n",
            "joint_id:15,(x,y,z)=(0.409,-0.067,1.055),unity座標系(x,y,z)=(-0.067,1.055,-0.409)\n",
            "joint_id:16,(x,y,z)=(0.233,0.144,1.128),unity座標系(x,y,z)=(0.144,1.128,-0.233)\n",
            " 93% 28/30 [00:18<00:01,  1.22it/s]\n",
            "joint_id:0,(x,y,z)=(0.000,0.000,0.647),unity座標系(x,y,z)=(0.000,0.647,-0.000)\n",
            "joint_id:1,(x,y,z)=(0.113,-0.078,0.648),unity座標系(x,y,z)=(-0.078,0.648,-0.113)\n",
            "joint_id:2,(x,y,z)=(0.308,0.261,0.498),unity座標系(x,y,z)=(0.261,0.498,-0.308)\n",
            "joint_id:3,(x,y,z)=(0.114,0.174,0.181),unity座標系(x,y,z)=(0.174,0.181,-0.114)\n",
            "joint_id:4,(x,y,z)=(-0.113,0.078,0.645),unity座標系(x,y,z)=(0.078,0.645,0.113)\n",
            "joint_id:5,(x,y,z)=(0.062,0.424,0.439),unity座標系(x,y,z)=(0.424,0.439,-0.062)\n",
            "joint_id:6,(x,y,z)=(0.030,0.328,0.000),unity座標系(x,y,z)=(0.328,0.000,-0.030)\n",
            "joint_id:7,(x,y,z)=(-0.009,-0.001,0.905),unity座標系(x,y,z)=(-0.001,0.905,0.009)\n",
            "joint_id:8,(x,y,z)=(-0.009,0.026,1.150),unity座標系(x,y,z)=(0.026,1.150,0.009)\n",
            "joint_id:9,(x,y,z)=(0.026,0.076,1.258),unity座標系(x,y,z)=(0.076,1.258,-0.026)\n",
            "joint_id:10,(x,y,z)=(0.033,0.011,1.364),unity座標系(x,y,z)=(0.011,1.364,-0.033)\n",
            "joint_id:11,(x,y,z)=(-0.157,0.092,1.109),unity座標系(x,y,z)=(0.092,1.109,0.157)\n",
            "joint_id:12,(x,y,z)=(-0.375,0.221,0.974),unity座標系(x,y,z)=(0.221,0.974,0.375)\n",
            "joint_id:13,(x,y,z)=(-0.100,0.250,0.985),unity座標系(x,y,z)=(0.250,0.985,0.100)\n",
            "joint_id:14,(x,y,z)=(0.128,-0.076,1.117),unity座標系(x,y,z)=(-0.076,1.117,-0.128)\n",
            "joint_id:15,(x,y,z)=(0.407,-0.071,1.062),unity座標系(x,y,z)=(-0.071,1.062,-0.407)\n",
            "joint_id:16,(x,y,z)=(0.230,0.137,1.138),unity座標系(x,y,z)=(0.137,1.138,-0.230)\n",
            " 97% 29/30 [00:19<00:00,  1.21it/s]\n",
            "joint_id:0,(x,y,z)=(0.000,0.000,0.648),unity座標系(x,y,z)=(0.000,0.648,-0.000)\n",
            "joint_id:1,(x,y,z)=(0.112,-0.080,0.649),unity座標系(x,y,z)=(-0.080,0.649,-0.112)\n",
            "joint_id:2,(x,y,z)=(0.313,0.254,0.503),unity座標系(x,y,z)=(0.254,0.503,-0.313)\n",
            "joint_id:3,(x,y,z)=(0.106,0.172,0.196),unity座標系(x,y,z)=(0.172,0.196,-0.106)\n",
            "joint_id:4,(x,y,z)=(-0.112,0.080,0.646),unity座標系(x,y,z)=(0.080,0.646,0.112)\n",
            "joint_id:5,(x,y,z)=(0.063,0.423,0.438),unity座標系(x,y,z)=(0.423,0.438,-0.063)\n",
            "joint_id:6,(x,y,z)=(0.030,0.325,0.000),unity座標系(x,y,z)=(0.325,0.000,-0.030)\n",
            "joint_id:7,(x,y,z)=(-0.009,-0.000,0.906),unity座標系(x,y,z)=(-0.000,0.906,0.009)\n",
            "joint_id:8,(x,y,z)=(-0.010,0.026,1.151),unity座標系(x,y,z)=(0.026,1.151,0.010)\n",
            "joint_id:9,(x,y,z)=(0.026,0.076,1.259),unity座標系(x,y,z)=(0.076,1.259,-0.026)\n",
            "joint_id:10,(x,y,z)=(0.033,0.011,1.365),unity座標系(x,y,z)=(0.011,1.365,-0.033)\n",
            "joint_id:11,(x,y,z)=(-0.158,0.095,1.111),unity座標系(x,y,z)=(0.095,1.111,0.158)\n",
            "joint_id:12,(x,y,z)=(-0.375,0.231,0.983),unity座標系(x,y,z)=(0.231,0.983,0.375)\n",
            "joint_id:13,(x,y,z)=(-0.098,0.251,1.002),unity座標系(x,y,z)=(0.251,1.002,0.098)\n",
            "joint_id:14,(x,y,z)=(0.126,-0.078,1.119),unity座標系(x,y,z)=(-0.078,1.119,-0.126)\n",
            "joint_id:15,(x,y,z)=(0.406,-0.073,1.069),unity座標系(x,y,z)=(-0.073,1.069,-0.406)\n",
            "joint_id:16,(x,y,z)=(0.227,0.132,1.148),unity座標系(x,y,z)=(0.132,1.148,-0.227)\n",
            "100% 30/30 [00:20<00:00,  1.49it/s]\n",
            "Generating 3D pose successful!\n",
            "\n",
            "Generating demo...\n",
            "100% 60/60 [00:34<00:00,  1.73it/s]\n",
            "Generating demo successful!\n"
          ]
        }
      ],
      "source": [
        "#%cd /content/StridedTransformer-Pose3D\n",
        "%cd /content/3d-human-pose-estimation\n",
        "\n",
        "#!python3 demo/vis.py --video {file_name}\n",
        "!python3 demo/vis.py --video {slow_motion_filename}"
      ]
    },
    {
      "cell_type": "code",
      "execution_count": null,
      "metadata": {
        "id": "fvYjXBfB-RHJ"
      },
      "outputs": [],
      "source": [
        "clip = VideoFileClip('/content/3d-human-pose-estimation/demo/output/input_clip/input_clip.mp4')\n",
        "clip = resize(clip, height=420)\n",
        "clip.ipython_display()"
      ]
    },
    {
      "cell_type": "code",
      "execution_count": null,
      "metadata": {
        "id": "cQtkfgQYLHaZ"
      },
      "outputs": [],
      "source": [
        "from google.colab import drive\n",
        "drive.mount('/content/drive')"
      ]
    }
  ],
  "metadata": {
    "accelerator": "GPU",
    "colab": {
      "provenance": [],
      "collapsed_sections": [
        "ylvZqo3iH8-I"
      ]
    },
    "kernelspec": {
      "display_name": "Python 3",
      "name": "python3"
    },
    "language_info": {
      "name": "python"
    }
  },
  "nbformat": 4,
  "nbformat_minor": 0
}